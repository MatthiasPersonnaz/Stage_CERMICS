{
 "cells": [
  {
   "cell_type": "code",
   "execution_count": 1,
   "metadata": {},
   "outputs": [
    {
     "name": "stderr",
     "output_type": "stream",
     "text": [
      "\n",
      "(process:19668): GLib-GIO-WARNING **: 10:09:29.955: Unexpectedly, UWP app `draw.io.draw.ioDiagrams_16.5.1.0_x64__1zh33159kp73c' (AUMId `draw.io.draw.ioDiagrams_1zh33159kp73c!draw.io.draw.ioDiagrams') supports 2 extensions but has no verbs\n"
     ]
    }
   ],
   "source": [
    "# using Logging\n",
    "# Logging.disable_logging(LogLevel(3))\n",
    "using Plots\n",
    "using FFTW"
   ]
  },
  {
   "cell_type": "code",
   "execution_count": 7,
   "metadata": {},
   "outputs": [],
   "source": [
    "# Solves i∂t = -Δ/2 ψ + Vψ starting at ψ for a time t, with timestep Δt.\n",
    "function propagate(ψ, t, Vx, kinetic, Δt)\n",
    "    n = ceil(Int, real(t/Δt))\n",
    "    Δt = t/n\n",
    "    for i = 1:n\n",
    "        ψ = step(ψ, Δt, Vx, kinetic)\n",
    "    end\n",
    "    ψ\n",
    "end\n",
    "\n",
    "# Perform a step of a splitting method (Trotter formula)\n",
    "function step(ψ, Δt, Vx, kinetic)\n",
    "    # Propagate V\n",
    "    ψ = @. ψ * exp(-im*Δt/2*Vx)\n",
    "    # transform to momentum space\n",
    "    ψf = fft(ψ)\n",
    "    # Propagate -Δ/2\n",
    "    @. ψf *= exp(-im*Δt/2*kinetic)\n",
    "    # transform back to real space\n",
    "    ψ = ifft(ψf)\n",
    "end\n",
    "\n",
    "# Grid from -L to L with N points\n",
    "function dynamics(ψ0_fun, V_fun; L=10, N=1000, T=4*im, Δt=0.01*im, frames=100, tanim=6)\n",
    "    x = range(-L, L, length=N)\n",
    "\n",
    "    # The FFT formula is X[k] = sum_n=0^N-1 X[n] e^-2πikn/N. We want 2π k n / N to be equal to ω[k] x[n], so ω[k] = 2π k n / N x[n].\n",
    "    # x[n] = n/N so ω[k] = 2π k, for k = 0...N-1\n",
    "    ωs = 0:N-1\n",
    "    wraparound(i) = (i <= div(N+1,2)+1) ? ωs[i] : -ωs[end-i+2] # last element is ωs[2], the first non-DC component\n",
    "    momentum = 2π/(2L)*collect(wraparound.(1:N))\n",
    "    kinetic = (momentum .^ 2) / 2\n",
    "\n",
    "    Vx = V_fun.(x)\n",
    "    ψ0 = ψ0_fun.(x)\n",
    "    ψ = ψ0\n",
    "\n",
    "    ψ0max = maximum(abs.(ψ0))\n",
    "    ylim = [-2*ψ0max, 2*ψ0max]\n",
    "\n",
    "    anim = @animate for n = 1:frames\n",
    "        # println(\"Frame $n/$frames\")\n",
    "        t_before = T*(n-1)/frames\n",
    "        t_after = T*n/frames\n",
    "        ψ = propagate(ψ, t_after - t_before, Vx, kinetic, Δt)\n",
    "        plot(x, [real(ψ), imag(ψ), abs.(ψ), Vx], ylim=ylim, grid=false, w=[1 1 2 1], color = [\"red\" \"blue\" \"black\" \"grey\"], linestyle=[:solid :solid :solid :dash], label=[\"Real\" \"Imag\" \"Modulus\" \"Pot\"])\n",
    "    end\n",
    "\n",
    "    fps = frames/tanim\n",
    "    gif(anim, fps=fps)\n",
    "end;"
   ]
  },
  {
   "cell_type": "markdown",
   "metadata": {},
   "source": [
    "In the rest, we just call `dynamics` with different initial conditions and potentials. By default, this is on a grid with $1000$ points from $-10$ to $10$ with periodic boundary conditions."
   ]
  },
  {
   "cell_type": "code",
   "execution_count": 8,
   "metadata": {},
   "outputs": [],
   "source": [
    "V(x) = 1/2*x^2;"
   ]
  },
  {
   "cell_type": "code",
   "execution_count": 10,
   "metadata": {},
   "outputs": [
    {
     "name": "stderr",
     "output_type": "stream",
     "text": [
      "┌ Info: Saved animation to \n",
      "│   fn = C:\\Users\\matth\\AppData\\Local\\Temp\\jl_2lXWvC8Noi.gif\n",
      "└ @ Plots C:\\Users\\matth\\.julia\\packages\\Plots\\rDbWY\\src\\animation.jl:114\n"
     ]
    },
    {
     "data": {
      "text/html": [
       "<img src=\"data:image/gif;base64,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\" />"
      ],
      "text/plain": [
       "Plots.AnimatedGif(\"C:\\\\Users\\\\matth\\\\AppData\\\\Local\\\\Temp\\\\jl_2lXWvC8Noi.gif\")"
      ]
     },
     "metadata": {},
     "output_type": "display_data"
    }
   ],
   "source": [
    "psi0(x) = exp(-x^2)*exp(3*im*x)\n",
    "dynamics(psi0, V, L=20, T=16)"
   ]
  },
  {
   "cell_type": "markdown",
   "metadata": {},
   "source": [
    "The solution here is $$\\psi(x,t) = e^{-i E t} \\psi(x,0).$$ The real and imaginary part oscillate, but the modulus (and any other observable) stays constant.\n",
    "\n",
    "Let's make the wave packet move now: we keep its \"perfectly balanced\" variance, but give it an initial kick.\n",
    "\n",
    "### Reprise du code en temps imaginaire"
   ]
  },
  {
   "cell_type": "code",
   "execution_count": 11,
   "metadata": {},
   "outputs": [
    {
     "data": {
      "text/plain": [
       "wraparound (generic function with 1 method)"
      ]
     },
     "metadata": {},
     "output_type": "display_data"
    }
   ],
   "source": [
    "N = 10;\n",
    "ωs = 0:N-1\n",
    "wraparound(i) = (i <= div(N+1,2)+1) ? ωs[i] : -ωs[end-i+2] # last element is ωs[2], the first non-DC component"
   ]
  },
  {
   "cell_type": "code",
   "execution_count": 13,
   "metadata": {},
   "outputs": [
    {
     "data": {
      "text/plain": [
       "10-element Vector{Float64}:\n",
       " 0.0\n",
       " 0.04934802200544679\n",
       " 0.19739208802178715\n",
       " 0.4441321980490211\n",
       " 0.7895683520871486\n",
       " 1.2337005501361697\n",
       " 0.7895683520871486\n",
       " 0.4441321980490211\n",
       " 0.19739208802178715\n",
       " 0.04934802200544679"
      ]
     },
     "metadata": {},
     "output_type": "display_data"
    }
   ],
   "source": [
    "L = 10;\n",
    "momentum = 2π/(2L)*collect(wraparound.(1:N))\n",
    "kinetic = (momentum .^ 2) / 2"
   ]
  },
  {
   "cell_type": "code",
   "execution_count": null,
   "metadata": {},
   "outputs": [],
   "source": [
    "x = range(-L, L, length=N);\n",
    "psi0(x) = exp(-x^2)*exp(3*im*x);\n",
    "V(x) = 1/2*x^2;\n",
    "Vx = V_fun.(x);\n",
    "ψ0 = ψ0_fun.(x);"
   ]
  }
 ],
 "metadata": {
  "kernelspec": {
   "display_name": "Julia 1.7.2",
   "language": "julia",
   "name": "julia-1.7"
  },
  "language_info": {
   "file_extension": ".jl",
   "mimetype": "application/julia",
   "name": "julia",
   "version": "1.7.2"
  }
 },
 "nbformat": 4,
 "nbformat_minor": 2
}
