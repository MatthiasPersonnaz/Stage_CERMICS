{
 "cells": [
  {
   "cell_type": "code",
   "execution_count": 89,
   "metadata": {},
   "outputs": [],
   "source": [
    "import warnings\n",
    "warnings.filterwarnings(\"ignore\", category=DeprecationWarning)"
   ]
  },
  {
   "cell_type": "code",
   "execution_count": 79,
   "metadata": {},
   "outputs": [],
   "source": [
    "psi = function('psi')(x)\n",
    "V = 1/2*x^2"
   ]
  },
  {
   "cell_type": "code",
   "execution_count": 7,
   "metadata": {},
   "outputs": [],
   "source": [
    "%display typeset"
   ]
  },
  {
   "cell_type": "code",
   "execution_count": 80,
   "metadata": {},
   "outputs": [
    {
     "data": {
      "text/html": [
       "<html><script type=\"math/tex; mode=display\">\\newcommand{\\Bold}[1]{\\mathbf{#1}}\\frac{\\partial^{3}}{(\\partial x)^{3}}\\psi\\left(x\\right)</script></html>"
      ],
      "text/plain": [
       "diff(psi(x), x, x, x)"
      ]
     },
     "execution_count": 80,
     "metadata": {},
     "output_type": "execute_result"
    }
   ],
   "source": [
    "diff(psi,x,3)"
   ]
  },
  {
   "cell_type": "code",
   "execution_count": 62,
   "metadata": {},
   "outputs": [],
   "source": [
    "def crochetLie(u,v):\n",
    "    SR.var('x')\n",
    "    p(x) = u(x)*v(x)\n",
    "    return -diff(p,x,2) + v*diff(u,x,2)"
   ]
  },
  {
   "cell_type": "code",
   "execution_count": 98,
   "metadata": {},
   "outputs": [
    {
     "data": {
      "text/html": [
       "<html><script type=\"math/tex; mode=display\">\\newcommand{\\Bold}[1]{\\mathbf{#1}}x \\ {\\mapsto}\\ -2 \\, x \\frac{\\partial}{\\partial x}\\psi\\left(x\\right) - \\psi\\left(x\\right)</script></html>"
      ],
      "text/plain": [
       "x |--> -2*x*diff(psi(x), x) - psi(x)"
      ]
     },
     "execution_count": 98,
     "metadata": {},
     "output_type": "execute_result"
    }
   ],
   "source": [
    "psi = function('psi')(x)\n",
    "V = function('V')(x)\n",
    "V(x) = 1/2*x^2\n",
    "crochetLie(psi,V)"
   ]
  },
  {
   "cell_type": "code",
   "execution_count": 99,
   "metadata": {},
   "outputs": [
    {
     "data": {
      "text/html": [
       "<html><script type=\"math/tex; mode=display\">\\newcommand{\\Bold}[1]{\\mathbf{#1}}x \\ {\\mapsto}\\ \\frac{1}{4} \\, x^{3} \\frac{\\partial^{3}}{(\\partial x)^{3}}\\psi\\left(x\\right) + \\frac{13}{8} \\, x^{2} \\frac{\\partial^{2}}{(\\partial x)^{2}}\\psi\\left(x\\right) + \\frac{3}{2} \\, x \\frac{\\partial}{\\partial x}\\psi\\left(x\\right)</script></html>"
      ],
      "text/plain": [
       "x |--> 1/4*x^3*diff(psi(x), x, x, x) + 13/8*x^2*diff(psi(x), x, x) + 3/2*x*diff(psi(x), x)"
      ]
     },
     "execution_count": 99,
     "metadata": {},
     "output_type": "execute_result"
    }
   ],
   "source": [
    "c = crochetLie(psi,V)\n",
    "1/12*(2*crochetLie(V,c) + crochetLie(V,c)).expand()"
   ]
  },
  {
   "cell_type": "code",
   "execution_count": 100,
   "metadata": {},
   "outputs": [
    {
     "data": {
      "text/html": [
       "<html><script type=\"math/tex; mode=display\">\\newcommand{\\Bold}[1]{\\mathbf{#1}}x \\ {\\mapsto}\\ x^{3} \\frac{\\partial^{3}}{(\\partial x)^{3}}\\psi\\left(x\\right) + \\frac{13}{2} \\, x^{2} \\frac{\\partial^{2}}{(\\partial x)^{2}}\\psi\\left(x\\right) + 6 \\, x \\frac{\\partial}{\\partial x}\\psi\\left(x\\right)</script></html>"
      ],
      "text/plain": [
       "x |--> x^3*diff(psi(x), x, x, x) + 13/2*x^2*diff(psi(x), x, x) + 6*x*diff(psi(x), x)"
      ]
     },
     "execution_count": 100,
     "metadata": {},
     "output_type": "execute_result"
    }
   ],
   "source": [
    "# est ce que le potentiel commute avec le commutateur ?\n",
    "crochetLie(V,c).expand()"
   ]
  },
  {
   "cell_type": "code",
   "execution_count": 101,
   "metadata": {},
   "outputs": [
    {
     "data": {
      "text/html": [
       "<html><script type=\"math/tex; mode=display\">\\newcommand{\\Bold}[1]{\\mathbf{#1}}x \\ {\\mapsto}\\ 4 \\, x \\frac{\\partial}{\\partial x}\\psi\\left(x\\right) \\frac{\\partial^{2}}{(\\partial x)^{2}}\\psi\\left(x\\right) + 2 \\, x \\psi\\left(x\\right) \\frac{\\partial^{3}}{(\\partial x)^{3}}\\psi\\left(x\\right) + 6 \\, \\frac{\\partial}{\\partial x}\\psi\\left(x\\right)^{2} + 5 \\, \\psi\\left(x\\right) \\frac{\\partial^{2}}{(\\partial x)^{2}}\\psi\\left(x\\right)</script></html>"
      ],
      "text/plain": [
       "x |--> 4*x*diff(psi(x), x)*diff(psi(x), x, x) + 2*x*psi(x)*diff(psi(x), x, x, x) + 6*diff(psi(x), x)^2 + 5*psi(x)*diff(psi(x), x, x)"
      ]
     },
     "execution_count": 101,
     "metadata": {},
     "output_type": "execute_result"
    }
   ],
   "source": [
    "# est ce que la fonction d'onde commute avec le commutateur ?\n",
    "crochetLie(psi,c).expand()"
   ]
  },
  {
   "cell_type": "code",
   "execution_count": 34,
   "metadata": {},
   "outputs": [],
   "source": [
    "from sage.symbolic.operators import FDerivativeOperator"
   ]
  },
  {
   "cell_type": "code",
   "execution_count": 41,
   "metadata": {},
   "outputs": [],
   "source": [
    "op = FDerivativeOperator(V, [0])"
   ]
  },
  {
   "cell_type": "code",
   "execution_count": 44,
   "metadata": {},
   "outputs": [
    {
     "data": {
      "text/html": [
       "<html><script type=\"math/tex; mode=display\">\\newcommand{\\Bold}[1]{\\mathbf{#1}}\\frac{1}{2} \\, x^{2}</script></html>"
      ],
      "text/plain": [
       "1/2*x^2"
      ]
     },
     "execution_count": 44,
     "metadata": {},
     "output_type": "execute_result"
    }
   ],
   "source": [
    "op.function()"
   ]
  },
  {
   "cell_type": "code",
   "execution_count": 81,
   "metadata": {},
   "outputs": [],
   "source": [
    "# https://ask.sagemath.org/question/49362/symbolic-differentiation-of-unknown-function/\n",
    "sage: t = SR.var('t')\n",
    "sage: v = function('v')\n",
    "sage: F(t) = v(t)*t^2"
   ]
  },
  {
   "cell_type": "code",
   "execution_count": 82,
   "metadata": {},
   "outputs": [
    {
     "data": {
      "text/html": [
       "<html><script type=\"math/tex; mode=display\">\\newcommand{\\Bold}[1]{\\mathbf{#1}}t \\ {\\mapsto}\\ t^{2} v\\left(t\\right)</script></html>"
      ],
      "text/plain": [
       "t |--> t^2*v(t)"
      ]
     },
     "execution_count": 82,
     "metadata": {},
     "output_type": "execute_result"
    }
   ],
   "source": [
    "F"
   ]
  },
  {
   "cell_type": "code",
   "execution_count": null,
   "metadata": {},
   "outputs": [],
   "source": []
  }
 ],
 "metadata": {
  "kernelspec": {
   "display_name": "SageMath 9.1",
   "language": "sage",
   "name": "sagemath"
  },
  "language_info": {
   "codemirror_mode": {
    "name": "ipython",
    "version": 3
   },
   "file_extension": ".py",
   "mimetype": "text/x-python",
   "name": "python",
   "nbconvert_exporter": "python",
   "pygments_lexer": "ipython3",
   "version": "3.7.3"
  }
 },
 "nbformat": 4,
 "nbformat_minor": 2
}
