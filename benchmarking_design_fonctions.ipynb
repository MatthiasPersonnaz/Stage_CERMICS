{
 "cells": [
  {
   "cell_type": "code",
   "execution_count": 1,
   "metadata": {},
   "outputs": [
    {
     "data": {
      "text/plain": [
       "LinearAlgebra.BLAS.LBTConfig\n",
       "Libraries: \n",
       "└ [ILP64] libopenblas64_.dll"
      ]
     },
     "metadata": {},
     "output_type": "display_data"
    }
   ],
   "source": [
    "using LinearAlgebra;\n",
    "using SparseArrays;\n",
    "BLAS.get_config()"
   ]
  },
  {
   "cell_type": "code",
   "execution_count": 2,
   "metadata": {},
   "outputs": [
    {
     "data": {
      "text/plain": [
       "laplacien (generic function with 1 method)"
      ]
     },
     "metadata": {},
     "output_type": "display_data"
    }
   ],
   "source": [
    "function laplacien(N)\n",
    "    N² = N*N;\n",
    "    # BLOC EXTRA-DIAGONAL\n",
    "    J = -1.0*I(N)\n",
    "    \n",
    "    # BLOC DIAGONAL\n",
    "    diag = 4*ones(Float64,N);  # vecteur de la diagonale\n",
    "    extra_diag = -1.0*ones(Float64,N-1); # vecteur de la sur- et sous-diagonale remplies de 1\n",
    "    T = SymTridiagonal(diag, extra_diag);  # matrice des blocs diagonaux, qui est tridiagonale symétrique\n",
    "\n",
    "    # assemblage du laplacien\n",
    "    Λ = spzeros(N²,N²);\n",
    "    @views for i in 1:N\n",
    "        Λ[1+(i-1)*N:i*N,1+(i-1)*N:i*N] .= T[:,:]\n",
    "    end\n",
    "    \n",
    "    @views for i in 1:N-1\n",
    "        Λ[1+(i-1)* N : i    *N, 1+(i)  *N :  (i+1)*N] .= J[:,:] # remplissage blocs extradiag supérieurs\n",
    "        Λ[1+(i)  * N : (i+1)*N, 1+(i-1)*N :      i*N] .= J[:,:] # remplissage blocs extradiag inférieurs\n",
    "    end\n",
    "    return Hermitian(Λ)\n",
    "end"
   ]
  },
  {
   "cell_type": "markdown",
   "metadata": {},
   "source": [
    "# Quelques tests de performance\n",
    "#### Comparaison entre l'inversion d'un système et multiplication par la matrice inverse"
   ]
  },
  {
   "cell_type": "code",
   "execution_count": 13,
   "metadata": {},
   "outputs": [
    {
     "name": "stdout",
     "output_type": "stream",
     "text": [
      "  0.555346 seconds (5 allocations: 63.004 MiB)\n"
     ]
    }
   ],
   "source": [
    "using Distributions;\n",
    "N = 2000\n",
    "A = rand(Complex{Float64},(N,N));\n",
    "@time Ainv = inv(A);"
   ]
  },
  {
   "cell_type": "code",
   "execution_count": 11,
   "metadata": {},
   "outputs": [
    {
     "name": "stdout",
     "output_type": "stream",
     "text": [
      "  0.262120 seconds (5 allocations: 61.081 MiB)\n"
     ]
    }
   ],
   "source": [
    "using BenchmarkTools;\n",
    "x = rand(Complex{Float64},(N,1))\n",
    "@time A\\x;\n",
    "# @btime $A \\ $x;\n",
    "# @btime $Ainv*$x;"
   ]
  },
  {
   "cell_type": "markdown",
   "metadata": {},
   "source": [
    "Conclusion: si le système linéaire qu'on résout est toujours le même (avec le terme de droite qui change), il vaut mieux inverser la matrice une bonne fois pour toutes et multiplier par l'inverse ce qui est très rapide (c'était prévisible). Mais on perd en précision un ordre de grandeur. Ce [thread](https://discourse.julialang.org/t/solving-ax-b-for-large-matrix-dimesnions-efficiently-in-julia/51504/) suggère de plutôt résoudre un système et computation_grapher la décomposition de Choleski si on souhaite recommencer avec d'autres termes de droite"
   ]
  },
  {
   "cell_type": "code",
   "execution_count": 113,
   "metadata": {},
   "outputs": [
    {
     "data": {
      "text/plain": [
       "6.386426029784002e-11"
      ]
     },
     "metadata": {},
     "output_type": "display_data"
    }
   ],
   "source": [
    "using LinearAlgebra;\n",
    "norm(A*sls - x)\n",
    "# on constate que la méthode par résolution de  système linéaire est plus gourmande en opérations mais moins précise d'un ordre de grandeur"
   ]
  },
  {
   "cell_type": "code",
   "execution_count": 114,
   "metadata": {},
   "outputs": [
    {
     "data": {
      "text/plain": [
       "3.5613829080181373e-10"
      ]
     },
     "metadata": {},
     "output_type": "display_data"
    }
   ],
   "source": [
    "norm(A*mi - x)"
   ]
  },
  {
   "cell_type": "markdown",
   "metadata": {},
   "source": [
    "#### Comparaison entre la multiplication matricielle par une Vandermonde du paquet `SpecialMAtrices`et la Fast Fourier Transform"
   ]
  },
  {
   "cell_type": "code",
   "execution_count": 53,
   "metadata": {},
   "outputs": [],
   "source": [
    "using FFTW;\n",
    "using BenchmarkTools;\n",
    "N = 1000;\n",
    "\n",
    "ψ = rand(Complex{Float64},(N));"
   ]
  },
  {
   "cell_type": "code",
   "execution_count": 54,
   "metadata": {},
   "outputs": [],
   "source": [
    "using SpecialMatrices;\n",
    "r = [exp(-k*im*pi/N) for k in 0:N-1];\n",
    "V = Vandermonde(r);"
   ]
  },
  {
   "cell_type": "code",
   "execution_count": 58,
   "metadata": {},
   "outputs": [
    {
     "name": "stdout",
     "output_type": "stream",
     "text": [
      "  20.744 ms (1 allocation: 15.75 KiB)\n"
     ]
    }
   ],
   "source": [
    "@btime V*$ψ;"
   ]
  },
  {
   "cell_type": "code",
   "execution_count": 59,
   "metadata": {},
   "outputs": [
    {
     "name": "stdout",
     "output_type": "stream",
     "text": [
      "  15.300 μs (26 allocations: 17.47 KiB)\n"
     ]
    }
   ],
   "source": [
    "@btime fft($ψ);"
   ]
  },
  {
   "cell_type": "markdown",
   "metadata": {},
   "source": [
    "### Comparaison entre OpenBLAS (librairie par défaut utilisée par `LinearAlgebra`) et `MKL`\n",
    "####  OpenBLAS versus MKL pour l'inversion de matrices \n",
    "Conclusion: pour inverser des matrices petites tout du moins, MKL est un peu plus rapide\n",
    "Voir les explications ici: [Runtime-switchable BLAS/LAPACK backends via libblastrampoline | E Saba, M Giordano | JuliaCon2021](https://www.youtube.com/watch?v=t6hptekOR7s)"
   ]
  },
  {
   "cell_type": "code",
   "execution_count": 6,
   "metadata": {},
   "outputs": [
    {
     "data": {
      "text/plain": [
       "LinearAlgebra.BLAS.LBTConfig\n",
       "Libraries: \n",
       "└ [ILP64] libopenblas64_.dll"
      ]
     },
     "metadata": {},
     "output_type": "display_data"
    }
   ],
   "source": [
    "using LinearAlgebra;\n",
    "using BenchmarkTools;\n",
    "BLAS.get_config()\n",
    "BLAS.get_num_threads()"
   ]
  },
  {
   "cell_type": "code",
   "execution_count": 12,
   "metadata": {},
   "outputs": [
    {
     "name": "stdout",
     "output_type": "stream",
     "text": [
      "  1.192 ms (5 allocations: 116.97 KiB)\n"
     ]
    }
   ],
   "source": [
    "N = 60;\n",
    "R = rand(Complex{Float64},(N,N));\n",
    "@btime inv($R);"
   ]
  },
  {
   "cell_type": "code",
   "execution_count": 13,
   "metadata": {},
   "outputs": [
    {
     "data": {
      "text/plain": [
       "LinearAlgebra.BLAS.LBTConfig\n",
       "Libraries: \n",
       "└ [ILP64] mkl_rt.2.dll"
      ]
     },
     "metadata": {},
     "output_type": "display_data"
    }
   ],
   "source": [
    "using MKL;\n",
    "using LinearAlgebra;\n",
    "BLAS.get_config()"
   ]
  },
  {
   "cell_type": "code",
   "execution_count": 14,
   "metadata": {},
   "outputs": [
    {
     "name": "stdout",
     "output_type": "stream",
     "text": [
      "  83.700 μs (5 allocations: 116.97 KiB)\n"
     ]
    }
   ],
   "source": [
    "N = 60;\n",
    "R = rand(Complex{Float64},(N,N));\n",
    "@btime inv($R);"
   ]
  },
  {
   "cell_type": "markdown",
   "metadata": {},
   "source": [
    "### Lapack versus BLAS pour l'inversion de matrices\n",
    "Résultat: ce sont les mêmes performances"
   ]
  },
  {
   "cell_type": "code",
   "execution_count": 10,
   "metadata": {},
   "outputs": [
    {
     "name": "stdout",
     "output_type": "stream",
     "text": [
      "  2.462 ms (5 allocations: 257.31 KiB)\n"
     ]
    }
   ],
   "source": [
    "using LinearAlgebra.LAPACK\n",
    "using BenchmarkTools;\n",
    "R = rand(Complex{Float64},(100,100));\n",
    "@btime inv($R);"
   ]
  },
  {
   "cell_type": "code",
   "execution_count": 9,
   "metadata": {},
   "outputs": [
    {
     "name": "stdout",
     "output_type": "stream",
     "text": [
      "  2.519 ms (5 allocations: 257.31 KiB)\n"
     ]
    }
   ],
   "source": [
    "using LinearAlgebra.BLAS\n",
    "using BenchmarkTools;\n",
    "R = rand(Complex{Float64},(100,100));\n",
    "@btime inv($R);"
   ]
  },
  {
   "cell_type": "markdown",
   "metadata": {},
   "source": [
    "## Comparer les différentes stratégies pour inverser la matrice hermitienne du laplacien"
   ]
  },
  {
   "cell_type": "code",
   "execution_count": 34,
   "metadata": {},
   "outputs": [
    {
     "name": "stdout",
     "output_type": "stream",
     "text": [
      "isposdef(H) = true\n",
      "ishermitian(H) = true\n",
      "typeof(H_hst) = Hermitian{Float64, SymTridiagonal{Float64, Vector{Float64}}}\n",
      "typeof(H) = Matrix{ComplexF64}\n",
      "typeof(H_h) = Hermitian{ComplexF64, Matrix{ComplexF64}}\n"
     ]
    }
   ],
   "source": [
    "using SparseArrays\n",
    "N = 1000;\n",
    "ed = -1*ones(N-1);\n",
    "di = 4*ones(N);\n",
    "H_st = SymTridiagonal(di,ed);\n",
    "H = Matrix{ComplexF64}(H_st);\n",
    "H_h = Hermitian(H);\n",
    "H_hst = Hermitian(H_st)\n",
    "H_sp = sparse(H);\n",
    "H_sym = Symmetric(H);\n",
    "@show isposdef(H);\n",
    "@show ishermitian(H);\n",
    "@show typeof(H_hst);\n",
    "@show typeof(H);\n",
    "@show typeof(H_h);"
   ]
  },
  {
   "cell_type": "markdown",
   "metadata": {},
   "source": [
    "#### Comparaison inversion entre type plein, symétrique et sparse"
   ]
  },
  {
   "cell_type": "code",
   "execution_count": 27,
   "metadata": {},
   "outputs": [
    {
     "name": "stdout",
     "output_type": "stream",
     "text": [
      "  0.003495 seconds (6 allocations: 117.000 KiB)\n",
      "  0.009029 seconds (4 allocations: 7.645 MiB)\n",
      "  0.252110 seconds (6 allocations: 16.243 MiB, 3.09% gc time)\n"
     ]
    }
   ],
   "source": [
    "using SparseArrays;\n",
    "# pas implémenté pour hermitian, il faut passer par bunchkaufman\n",
    "@time inv(H);\n",
    "@time inv(H_st);\n",
    "@time inv(H_sym);"
   ]
  },
  {
   "cell_type": "markdown",
   "metadata": {},
   "source": [
    "On teste à présent combien de temps prend la résolution d'un système linéaire pour la matrice et la précision qu'on atteint, et on fait de même en computation_graphant la matrice inverse"
   ]
  },
  {
   "cell_type": "code",
   "execution_count": 50,
   "metadata": {},
   "outputs": [
    {
     "name": "stdout",
     "output_type": "stream",
     "text": [
      "  0.000296 seconds (63 allocations: 479.039 KiB)\n",
      "  0.000023 seconds (3 allocations: 23.812 KiB)\n",
      "  0.040882 seconds (6 allocations: 8.133 MiB)\n"
     ]
    }
   ],
   "source": [
    "using SparseArrays;\n",
    "x = rand(N);\n",
    "@time H_sp \\ x;\n",
    "@time H_st \\ x;\n",
    "@time H_sym \\ x;"
   ]
  },
  {
   "cell_type": "markdown",
   "metadata": {},
   "source": [
    "### En utilisant la factorisation de Bunch-Kaufmann\n",
    "On va computation_grapher le type le plus intéressant pour computation_grapher l'inverse de la matrice avec la commande `LinearAlgebra.factorize`: Julia propose bunchkaufman, ce qui est intéressant car des méthodes optimisées existent pour cet objet: on peut lire dans la doc:\n",
    "\n",
    "*The following functions are available for BunchKaufman objects: size, \\\\, inv, issymmetric, ishermitian, getindex.*\n",
    "\n",
    "On constate que la version LAPACK est légèrement plus lente mais plus efficiente en mémoire"
   ]
  },
  {
   "cell_type": "code",
   "execution_count": 39,
   "metadata": {},
   "outputs": [
    {
     "name": "stdout",
     "output_type": "stream",
     "text": [
      "  0.154502 seconds (233.13 k allocations: 29.483 MiB, 54.84% compilation time)\n"
     ]
    },
    {
     "data": {
      "text/plain": [
       "BunchKaufman{ComplexF64, Matrix{ComplexF64}}"
      ]
     },
     "metadata": {},
     "output_type": "display_data"
    }
   ],
   "source": [
    "@time BK = LinearAlgebra.bunchkaufman(H_sym);  # type symétrique en entrée\n",
    "typeof(BK) # Julia propose bunchkaufman"
   ]
  },
  {
   "cell_type": "code",
   "execution_count": 40,
   "metadata": {},
   "outputs": [
    {
     "name": "stdout",
     "output_type": "stream",
     "text": [
      "  0.101998 seconds (10 allocations: 1008.297 KiB)\n",
      "  0.114795 seconds (1 allocation: 15.750 KiB)\n"
     ]
    }
   ],
   "source": [
    "BKl = copy(H);\n",
    "@time BKl,ipiv,info = LAPACK.hetrf!('U',BKl); # computation_grapher Bunc-Kaufman\n",
    "invH = copy(H);\n",
    "@time LAPACK.hetri!('U',invH,ipiv); # computation_grapher l'inverse avec le résultat de Bunch-Kaufmann"
   ]
  },
  {
   "cell_type": "markdown",
   "metadata": {},
   "source": [
    "Puis on résout le système linéaire en utilisant la méthode \\\\ surchargée pour le type BunchKaufman"
   ]
  },
  {
   "cell_type": "code",
   "execution_count": 42,
   "metadata": {},
   "outputs": [
    {
     "name": "stdout",
     "output_type": "stream",
     "text": [
      "  0.084477 seconds (284.29 k allocations: 15.314 MiB, 96.14% compilation time)\n",
      "  0.002516 seconds (1 allocation: 15.750 KiB)\n"
     ]
    }
   ],
   "source": [
    "x = rand(N);\n",
    "@time r = BK \\x;"
   ]
  },
  {
   "cell_type": "markdown",
   "metadata": {},
   "source": [
    "ce qui est remarquable, c'est que maintenant on a une opération de résolution d'un système linéaire qui est aussi rapide qu'une opération linéaire sur le vecteur !"
   ]
  },
  {
   "cell_type": "code",
   "execution_count": 57,
   "metadata": {},
   "outputs": [
    {
     "name": "stdout",
     "output_type": "stream",
     "text": [
      "  0.000367 seconds (1 allocation: 7.938 KiB)\n"
     ]
    }
   ],
   "source": [
    "@time H_h*x;"
   ]
  },
  {
   "cell_type": "markdown",
   "metadata": {},
   "source": [
    "### Comparaison des méthodes d'inversion pour les matrices hermitiennes complexes pleines"
   ]
  },
  {
   "cell_type": "code",
   "execution_count": 43,
   "metadata": {},
   "outputs": [
    {
     "name": "stdout",
     "output_type": "stream",
     "text": [
      "  0.000395 seconds (6 allocations: 118.031 KiB)\n",
      "  0.002310 seconds (4 allocations: 57.891 KiB)\n"
     ]
    }
   ],
   "source": [
    "N = 60;\n",
    "H = Hermitian(rand(Complex{Float64},(N,N)));\n",
    "R = rand(Complex{Float64},(N,N));\n",
    "X = rand(Complex{Float64}, (N,));\n",
    "@time H\\X;\n",
    "@time R\\X;"
   ]
  },
  {
   "cell_type": "markdown",
   "metadata": {},
   "source": [
    "## CUDA vs KrylovKit vs LinearAlgebra vs IterativeSolvers\n",
    "Doc pour CUDA sur l'utilisation  des Arrays et la mémoire: https://cuda.juliagpu.org/stable/usage/memory/, https://cuda.juliagpu.org/stable/usage/array/\n",
    "\n",
    "Pour avoir la syntaxe des fonctions et ce qu'elles font: voir le dépôt Julia https://github.com/JuliaGPU/CUDA.jl/blob/master/test/"
   ]
  },
  {
   "cell_type": "code",
   "execution_count": 2,
   "metadata": {},
   "outputs": [
    {
     "name": "stdout",
     "output_type": "stream",
     "text": [
      "CUDA.has_cuda_gpu() = true\n",
      "CUDA.has_cudnn() = false\n",
      "CUDA.functional() = true\n",
      "Sys.CPU_THREADS = 8\n",
      "CUDA toolkit 11.5, local installation\n",
      "NVIDIA driver 511.79.0, for CUDA 11.6\n",
      "CUDA driver 11.6\n",
      "\n",
      "Libraries: \n",
      "- CUBLAS: 11.7.3\n",
      "- CURAND: 10.2.6\n",
      "- CUFFT: 10.6.0\n",
      "- CUSOLVER: 11.2.1\n",
      "- CUSPARSE: 11.7.0\n",
      "- CUPTI: 16.0.0\n",
      "- NVML: 11.0.0+511.79\n",
      "- CUDNN: missing\n",
      "- CUTENSOR: missing\n",
      "\n",
      "Toolchain:\n",
      "- Julia: 1.7.2\n",
      "- LLVM: 12.0.1\n",
      "- PTX ISA support: 3.2, 4.0, 4.1, 4.2, 4.3, 5.0, 6.0, 6.1, 6.3, 6.4, 6.5, 7.0\n",
      "- Device capability support: sm_35, sm_37, sm_50, sm_52, sm_53, sm_60, sm_61, sm_62, sm_70, sm_72, sm_75, sm_80\n",
      "\n",
      "1 device:\n",
      "  0: NVIDIA GeForce GTX 1650 with Max-Q Design (sm_75, 3.869 GiB / 4.000 GiB available)\n",
      "CUDA.versioninfo() = nothing\n"
     ]
    }
   ],
   "source": [
    "using CUDA;\n",
    "@show CUDA.has_cuda_gpu();\n",
    "@show CUDA.has_cudnn()\n",
    "@show CUDA.functional()\n",
    "@show Sys.CPU_THREADS;\n",
    "@show CUDA.versioninfo();"
   ]
  },
  {
   "cell_type": "markdown",
   "metadata": {},
   "source": [
    "### 1) [Produit matriciel]: CUDA vs LinearAlgabra\n",
    "Pour le produit matriciel on trouve que le temps GPU d'opération est moins que celui du temps CPU pour des matrices de taille environ $4096 \\times 4096$"
   ]
  },
  {
   "cell_type": "code",
   "execution_count": 12,
   "metadata": {},
   "outputs": [
    {
     "name": "stdout",
     "output_type": "stream",
     "text": [
      "  0.132184 seconds (83 CPU allocations: 4.031 KiB) (1 GPU allocation: 64.000 MiB, 0.01% memmgmt time)\n"
     ]
    }
   ],
   "source": [
    "using CUDA;\n",
    "A_gpu = CUDA.rand(Float32,1024*4,1024*4); # au delà (environ 1024*8 sur chaque axe, ça fait un peu planter VSCODE)\n",
    "B_gpu = CUDA.rand(Float32,1024*4,1024*4);\n",
    "CUDA.@time A_gpu*B_gpu;"
   ]
  },
  {
   "cell_type": "code",
   "execution_count": null,
   "metadata": {},
   "outputs": [],
   "source": [
    "A = rand(Float32, (1024*4,1024*4));\n",
    "B = rand(Float32, (1024*4,1024*4));\n",
    "@time A*B;"
   ]
  },
  {
   "cell_type": "markdown",
   "metadata": {},
   "source": [
    "### 2) [computation_graph A\\B] CUDA vs LinearAlgrebra"
   ]
  },
  {
   "cell_type": "code",
   "execution_count": 4,
   "metadata": {},
   "outputs": [
    {
     "name": "stdout",
     "output_type": "stream",
     "text": [
      "  0.002217 seconds (56 CPU allocations: 3.953 KiB) (1 GPU allocation: 4 bytes, 1.29% memmgmt time)\n",
      "  0.009229 seconds (5 allocations: 1.911 MiB)\n",
      "info = 0\n",
      "h_B ≈ h_B_cpu = true\n",
      "norm(A * h_B_cpu - B) = 0.07967245f0\n",
      "norm(A * h_B - B) = 0.07250955f0\n"
     ]
    }
   ],
   "source": [
    "using CUDA;\n",
    "using LinearAlgebra;\n",
    "N = 500;\n",
    "elty = Float32; # on peut aussi mettre Float64 ou d'autres mais le GPU est + performant en Float32\n",
    "A          = rand(elty,N,N)\n",
    "d_A        = CuArray(A)\n",
    "d_A,d_ipiv,info = CUSOLVER.getrf!(d_A)\n",
    "B          = rand(elty,N,N)\n",
    "d_B        = CuArray(B)\n",
    "CUDA.@time d_B        = CUSOLVER.getrs!('N',d_A,d_ipiv,d_B)\n",
    "h_B        = collect(d_B)\n",
    "@time h_B_cpu = A\\B;\n",
    "@show info;\n",
    "@show h_B  ≈ h_B_cpu;\n",
    "@show norm(A*h_B_cpu-B);\n",
    "@show norm(A*h_B-B);"
   ]
  },
  {
   "cell_type": "markdown",
   "metadata": {},
   "source": [
    "Avec les gradients conjugués"
   ]
  },
  {
   "cell_type": "code",
   "execution_count": 8,
   "metadata": {},
   "outputs": [
    {
     "name": "stdout",
     "output_type": "stream",
     "text": [
      "  0.002227 seconds (457 CPU allocations: 28.828 KiB) (4 GPU allocations: 1.562 KiB, 0.75% memmgmt time)\n"
     ]
    }
   ],
   "source": [
    "using IterativeSolvers;\n",
    "n = 100\n",
    "A = cu(rand(n, n))\n",
    "A = A + A' + 2*n*I\n",
    "b = cu(rand(n))\n",
    "CUDA.@time x = cg(A, b);"
   ]
  },
  {
   "cell_type": "code",
   "execution_count": 11,
   "metadata": {},
   "outputs": [
    {
     "name": "stdout",
     "output_type": "stream",
     "text": [
      "  0.001166 seconds (12 allocations: 4.172 KiB)\n"
     ]
    }
   ],
   "source": [
    "using IterativeSolvers;\n",
    "n = 100\n",
    "A = rand(n, n)\n",
    "A = A + A' + 2*n*I\n",
    "b = rand(n)\n",
    "@time x = cg(A, b);"
   ]
  },
  {
   "cell_type": "code",
   "execution_count": null,
   "metadata": {},
   "outputs": [],
   "source": [
    "using SparseArrays;\n",
    "n = 100\n",
    "A = sprand(n,n,.03)\n",
    "A = cu(A + A' + 2*n*I)\n",
    "b = cu(sprand(n,n,.1))\n",
    "CUDA.@time x = cg(A, b); # ne fonctionne pas"
   ]
  },
  {
   "cell_type": "markdown",
   "metadata": {},
   "source": [
    "### 3) [FFT] CUDA vs FFTW -- trouver le seuil en taille des données intéressant pour utiliser CUDA\n",
    "Moralité on trouve que CUDA commence à être plus rapide pour des tailles dépassant 10 millions sur la FFT...\n",
    "https://docs.nvidia.com/cuda/cufft/index.html"
   ]
  },
  {
   "cell_type": "code",
   "execution_count": 67,
   "metadata": {},
   "outputs": [
    {
     "name": "stdout",
     "output_type": "stream",
     "text": [
      "  0.184508 seconds (90 CPU allocations: 5.328 KiB) (4 GPU allocations: 305.176 MiB, 15.59% memmgmt time)\n"
     ]
    }
   ],
   "source": [
    "using CUDA;\n",
    "a = CUDA.rand(10000000);\n",
    "CUDA.@time CUDA.CUFFT.fft(a);"
   ]
  },
  {
   "cell_type": "code",
   "execution_count": 66,
   "metadata": {},
   "outputs": [
    {
     "name": "stdout",
     "output_type": "stream",
     "text": [
      "  0.471436 seconds (519.03 k allocations: 104.105 MiB, 4.29% gc time, 57.98% compilation time)\n"
     ]
    }
   ],
   "source": [
    "using FFTW;\n",
    "F = rand(Complex{Float32}, (10000000));\n",
    "@time FFTW.fft(F);"
   ]
  },
  {
   "cell_type": "markdown",
   "metadata": {},
   "source": [
    "### 4) [Résolution $Ax = B$] CUDA vs LinearAlgebra vs KrylovKit vs IterativeSolvers\n",
    "* Inversion à l'aide de la fonction `csrlsvlu!` des fonctions inclues dans `CUDA.CUSOLVER` https://docs.nvidia.com/cuda/cusolver/index.html. Pour la syntaxe dans l'utilisation: https://github.com/JuliaGPU/CUDA.jl/blob/master/test/cusolver/sparse.jl"
   ]
  },
  {
   "cell_type": "code",
   "execution_count": 7,
   "metadata": {},
   "outputs": [
    {
     "name": "stdout",
     "output_type": "stream",
     "text": [
      "  3.929867 seconds (17 CPU allocations: 6.136 MiB)\n",
      "norm(A * x - b) = 0.01152171f0\n"
     ]
    }
   ],
   "source": [
    "using CUDA;\n",
    "using SparseArrays;\n",
    "using LinearAlgebra;\n",
    "N = 2000;\n",
    "elty = Float32;\n",
    "A = CUDA.CUSPARSE.sparse(sprand(elty,N,N,.1));\n",
    "b = rand(elty,N);\n",
    "x = zeros(elty,N);\n",
    "tol = convert(real(elty),1e-8);\n",
    "CUDA.@time x = CUDA.CUSOLVER.csrlsvlu!(A,b,x,tol,one(Cint),'O');\n",
    "@show norm(A*x-b);"
   ]
  },
  {
   "cell_type": "markdown",
   "metadata": {},
   "source": [
    "* Inversion à l'aide des fonctions de `LinearAlgebra`"
   ]
  },
  {
   "cell_type": "code",
   "execution_count": 23,
   "metadata": {},
   "outputs": [
    {
     "name": "stdout",
     "output_type": "stream",
     "text": [
      "  0.195202 seconds (470.47 k allocations: 40.134 MiB, 85.13% compilation time)\n"
     ]
    },
    {
     "data": {
      "text/plain": [
       "1.7201724300806126e-11"
      ]
     },
     "metadata": {},
     "output_type": "display_data"
    }
   ],
   "source": [
    "using LinearAlgebra;\n",
    "N = 1000;\n",
    "A = rand(ComplexF64, (N,N));\n",
    "B = rand(ComplexF64, (N));\n",
    "@time X = A\\B;\n",
    "norm(A*X-B)"
   ]
  },
  {
   "cell_type": "markdown",
   "metadata": {},
   "source": [
    "* Inversion à l'aide de Krylov https://jutho.github.io/KrylovKit.jl/stable/"
   ]
  },
  {
   "cell_type": "code",
   "execution_count": 24,
   "metadata": {},
   "outputs": [
    {
     "name": "stdout",
     "output_type": "stream",
     "text": [
      "  3.919008 seconds (5.03 M allocations: 353.087 MiB, 2.28% gc time, 44.62% compilation time)\n"
     ]
    },
    {
     "data": {
      "text/plain": [
       "12.609930736279159"
      ]
     },
     "metadata": {},
     "output_type": "display_data"
    }
   ],
   "source": [
    "using KrylovKit;\n",
    "N = 1000;\n",
    "A = rand(ComplexF64, (N,N));\n",
    "B = rand(ComplexF64, N);\n",
    "@time X,info = KrylovKit.linsolve(A,B,atol=1e-8);\n",
    "norm(A*X-B)"
   ]
  },
  {
   "cell_type": "markdown",
   "metadata": {},
   "source": [
    "* Inversion avec IterativeSolvers https://iterativesolvers.julialinearalgebra.org/stable/"
   ]
  },
  {
   "cell_type": "code",
   "execution_count": 30,
   "metadata": {},
   "outputs": [
    {
     "data": {
      "text/plain": [
       "([0.8095282260159942, -1.1505170662690425, 0.7936197680672064, -0.5104351460778495, -0.8268594484506823, -0.9963122348643336, 0.8443761569782968, -0.04138189735521555, 0.08497571337047374, -1.1907500113976373  …  -0.36668664672071266, -0.15890089065471563, 0.35423133009291047, -0.3358604156371157, 1.280084692553616, -0.7981513890525356, 0.11984132664149443, 1.0686525559504403, 0.5949926214952846, 1.3085550951003353], Not converged after 25 iterations.)"
      ]
     },
     "metadata": {},
     "output_type": "display_data"
    }
   ],
   "source": [
    "using IterativeSolvers\n",
    "N  = 100;\n",
    "A  = rand(Float64, (N,N));\n",
    "B  = rand(Float64, N);\n",
    "X₀ = rand(Float64, N);\n",
    "IterativeSolvers.bicgstabl!(X₀, A, B, 2, log=true)"
   ]
  },
  {
   "cell_type": "code",
   "execution_count": 16,
   "metadata": {},
   "outputs": [
    {
     "name": "stdout",
     "output_type": "stream",
     "text": [
      "  0.005843 seconds (12 allocations: 4.172 KiB)\n"
     ]
    }
   ],
   "source": [
    "using IterativeSolvers\n",
    "N = 100;\n",
    "A = rand(N,N);\n",
    "b = rand(N);\n",
    "@time Ψ = cg(A, b);"
   ]
  },
  {
   "cell_type": "code",
   "execution_count": 21,
   "metadata": {},
   "outputs": [
    {
     "name": "stdout",
     "output_type": "stream",
     "text": [
      "typeof(A) = Matrix{Float64}\n",
      "typeof(cu(A)) = CuArray{Float32, 2, CUDA.Mem.DeviceBuffer}\n",
      "typeof(A_gpu) = CuArray{Float32, 2, CUDA.Mem.DeviceBuffer}\n"
     ]
    }
   ],
   "source": [
    "@show typeof(A);\n",
    "@show typeof(cu(A));\n",
    "@show typeof(A_gpu);"
   ]
  },
  {
   "cell_type": "code",
   "execution_count": 15,
   "metadata": {},
   "outputs": [
    {
     "name": "stdout",
     "output_type": "stream",
     "text": [
      "  0.525891 seconds (12 CPU allocations: 32.438 KiB)\n"
     ]
    }
   ],
   "source": [
    "using CUDA;\n",
    "using IterativeSolvers;\n",
    "N = 100;\n",
    "A_gpu = CUDA.rand(N,N);\n",
    "b_gpu = CUDA.rand(N);\n",
    "CUDA.@time Ψ = cg(A, b);"
   ]
  },
  {
   "cell_type": "markdown",
   "metadata": {},
   "source": [
    "### 5) [Résolution d'éléments propres] `CUDA` vs `LinearAlgebra` vs `KrylovKit` (méthodes itératives)\n",
    "* avec les méthodes du paquet `LinearAlgebra` pour les différents types"
   ]
  },
  {
   "cell_type": "code",
   "execution_count": 16,
   "metadata": {},
   "outputs": [
    {
     "name": "stdout",
     "output_type": "stream",
     "text": [
      "issymmetric(H_m) = true\n",
      "isposdef(H_m) = true\n"
     ]
    }
   ],
   "source": [
    "# quelques tests sur la rapidité de computation_graph des éléments propres pour différents types\n",
    "using BenchmarkTools, LinearAlgebra, SparseArrays\n",
    "N = 10;\n",
    "H = SymTridiagonal(2*ones(Float64,N),-ones(Float64,N-1)); # laplacien à 3 points 1D\n",
    "H_m = Matrix(H);\n",
    "@show issymmetric(H_m);\n",
    "@show isposdef(H_m);\n",
    "H_h = Hermitian(H_m);\n",
    "H_t = SymTridiagonal(H_m);\n",
    "H_s = sparse(H_m);\n"
   ]
  },
  {
   "cell_type": "code",
   "execution_count": 17,
   "metadata": {},
   "outputs": [
    {
     "name": "stdout",
     "output_type": "stream",
     "text": [
      "Valeurs propres\n",
      "  3.237 μs (10 allocations: 5.11 KiB)\n",
      "  3.138 μs (10 allocations: 5.11 KiB)\n",
      "  2.467 μs (4 allocations: 544 bytes)\n",
      "Vecteurs propres\n",
      "  10.600 μs (11 allocations: 6.77 KiB)\n",
      "  10.500 μs (10 allocations: 6.73 KiB)\n",
      "  9.600 μs (11 allocations: 4.08 KiB)\n"
     ]
    }
   ],
   "source": [
    "println(\"Valeurs propres\")\n",
    "@btime eigvals(H_m);\n",
    "@btime eigvals(H_h);\n",
    "@btime eigvals(H_t);\n",
    "println(\"Vecteurs propres\")\n",
    "@btime eigvecs(H_m);\n",
    "@btime eigvecs(H_h);\n",
    "@btime eigvecs(H_t);"
   ]
  },
  {
   "cell_type": "markdown",
   "metadata": {},
   "source": [
    "* avec KrylovKit (plus rapide)\n",
    "Imaginons que l'on veut seulement les 5 premières valeurs propres de module le plus grand (ou autre, pour Krylov, voir doc), et comparons avec la vitesse de eigen de `LinearAlgebra`\n",
    "On constate que eigen est quand même très proche de l'optimal surtout avec son support pour les types SymTridiagonal et Hermitian au moins pour les petites matrices."
   ]
  },
  {
   "cell_type": "code",
   "execution_count": 30,
   "metadata": {},
   "outputs": [
    {
     "name": "stdout",
     "output_type": "stream",
     "text": [
      "  0.000149 seconds (429 allocations: 45.609 KiB)\n",
      "  0.000046 seconds (13 allocations: 6.359 KiB)\n",
      "  0.000039 seconds (11 allocations: 6.766 KiB)\n"
     ]
    }
   ],
   "source": [
    "using KrylovKit;\n",
    "@time vals, vecs, infos = KrylovKit.eigsolve(H_s, N, 5, :LM, krylovdim=10); # N peut être replacé par un vecteur aléatoire qui sert de \"initial guess\" pour le vecteur propre\n",
    "@time evals, evecs = eigen(H_h, 1:5);\n",
    "@time eigen(H_h);"
   ]
  },
  {
   "cell_type": "markdown",
   "metadata": {},
   "source": [
    "* Sur GPU avec `CUDA`\n",
    "    - Pour des matrices pleines on constate que utiliser le GPU est intéressant pour des matrices $n\\times n$ avec $n\\ge 1100$ environ.\n",
    "    - Pour des matrices creuses"
   ]
  },
  {
   "cell_type": "code",
   "execution_count": 53,
   "metadata": {},
   "outputs": [
    {
     "name": "stdout",
     "output_type": "stream",
     "text": [
      "  0.514020 seconds (76 CPU allocations: 4.578 KiB) (3 GPU allocations: 45.883 MiB, 0.04% memmgmt time)\n",
      "  1.754763 seconds (17 allocations: 92.271 MiB)\n"
     ]
    },
    {
     "data": {
      "text/plain": [
       "Eigen{Float64, Float64, Matrix{Float64}, Vector{Float64}}\n",
       "values:\n",
       "2000-element Vector{Float64}:\n",
       "  -25.98961671130684\n",
       "  -25.45863352673455\n",
       "  -25.417363327869282\n",
       "  -25.215066222825218\n",
       "  -25.132033690423885\n",
       "  -25.07683887355072\n",
       "  -25.005032904296215\n",
       "  -24.889566451360825\n",
       "  -24.828489929741753\n",
       "  -24.776559687715498\n",
       "    ⋮\n",
       "   24.87985543948134\n",
       "   25.018503609058293\n",
       "   25.081076734089446\n",
       "   25.123807956157997\n",
       "   25.258016515152725\n",
       "   25.33012625610243\n",
       "   25.655520962137828\n",
       "   25.73179760224552\n",
       " 1000.0929286476627\n",
       "vectors:\n",
       "2000×2000 Matrix{Float64}:\n",
       " -0.0267935   -0.0198165   -0.00408632   …   0.0116446   -0.0218206\n",
       "  0.0615411    0.00623048   0.035884         0.00236805  -0.0225557\n",
       "  0.0106359   -0.00192388  -0.015067         0.0267185   -0.0226823\n",
       " -0.00793926  -0.0156955   -0.000390668      0.0311121   -0.0221792\n",
       "  0.0203445   -0.0111273   -0.00674797      -0.0337676   -0.0222574\n",
       "  0.0010313    0.00595983  -0.0386665    …   0.0580085   -0.022019\n",
       " -0.00192003   0.0335892    0.00323093       0.00125107  -0.0219604\n",
       "  0.0230432    0.0350839    0.0447393       -0.0315919   -0.0226598\n",
       "  0.0206012   -0.0312787   -0.0173697        0.00971548  -0.0225645\n",
       " -0.0081897   -0.00144628   0.0295398       -0.00344796  -0.0222155\n",
       "  ⋮                                      ⋱               \n",
       "  0.0128681    0.0060366    0.00687341      -0.013161    -0.0222141\n",
       " -0.0210474   -0.00379369  -0.0191105       -0.0238102   -0.0225979\n",
       " -0.00981764   0.001586     0.00197261       0.0217815   -0.0225084\n",
       "  0.00647295  -0.00171108  -0.0131554        0.0195511   -0.0227585\n",
       "  0.0432748   -0.0221238    0.0251484    …   0.0296456   -0.0222732\n",
       " -0.0511138   -0.0527148    0.021871         0.018564    -0.0222191\n",
       "  0.0179042   -0.0228295    0.0357939        0.0190262   -0.0219547\n",
       "  0.0153003   -0.00850256   0.00254692       0.026477    -0.0222812\n",
       " -0.0254333   -0.0445847   -0.0370596        0.0101245   -0.0229396"
      ]
     },
     "metadata": {},
     "output_type": "display_data"
    }
   ],
   "source": [
    "# Trouver toutes les valeurs propres (réelles obligatoirement) et les vecteurs propres associés d'une matrice avec CUDA\n",
    "using CUDA;\n",
    "N = 2000;\n",
    "A = Matrix(Symmetric(rand(N, N))); # pour que les valeurs propres soient réelles\n",
    "A_cuda = CUDA.cu(A)\n",
    "CUDA.@time evals,evecs = CUDA.CUSOLVER.syevd!('V','U', A_cuda);\n",
    "using LinearAlgebra;\n",
    "@time evals, evecs = eigen(A) # pour comparaison, pareil sur le CPU"
   ]
  },
  {
   "cell_type": "code",
   "execution_count": 4,
   "metadata": {},
   "outputs": [
    {
     "name": "stdout",
     "output_type": "stream",
     "text": [
      "  1.604772 seconds (32 CPU allocations: 880 bytes) (2 GPU allocations: 404 bytes, 0.00% memmgmt time)\n"
     ]
    },
    {
     "data": {
      "text/plain": [
       "(1.0077717f0, Float32[0.045424342, 0.050302483, 0.004994407, -0.060587883, -0.09719523, -0.071500175, 0.008339327, 0.09526999, 0.13326459, 0.094733015  …  -0.09473284, -0.13326445, -0.09526994, -0.008339351, 0.07150012, 0.097195186, 0.060587913, -0.0049943677, -0.050302435, -0.04542431])"
      ]
     },
     "metadata": {},
     "output_type": "display_data"
    }
   ],
   "source": [
    "# Trouver toutes la plus grande valeur propre à une précision donnée et le vecteur propre associé avec CUDA\n",
    "using SparseArrays;\n",
    "using CUDA;\n",
    "elty = Float32;\n",
    "N = 10;\n",
    "Λ = laplacien(N)\n",
    "d_A = CUDA.CUSPARSE.CuSparseMatrixCSR{Float32}(sparse(Λ))\n",
    "x_0 = CUDA.cu(rand(elty,N*N))\n",
    "CUDA.@time μ,x = CUSOLVER.csreigvsi(d_A, convert(elty,1), x_0, convert(real(elty), 1e-9), convert(Cint,10000),'O')"
   ]
  },
  {
   "cell_type": "code",
   "execution_count": 43,
   "metadata": {},
   "outputs": [
    {
     "data": {
      "text/plain": [
       "9.860588337107993"
      ]
     },
     "metadata": {},
     "output_type": "display_data"
    }
   ],
   "source": [
    "4*N^2*sin(1*pi/2/N)^2"
   ]
  },
  {
   "cell_type": "code",
   "execution_count": 56,
   "metadata": {},
   "outputs": [
    {
     "data": {
      "image/png": "[encoded data removed]",
      "image/svg+xml": "<?xml version=\"1.0\" encoding=\"utf-8\"?>\n<svg xmlns=\"http://www.w3.org/2000/svg\" xmlns:xlink=\"http://www.w3.org/1999/xlink\" width=\"600\" height=\"400\" viewBox=\"0 0 2400 1600\">\n<defs>\n  <clipPath id=\"clip100\">\n    <rect x=\"0\" y=\"0\" width=\"2400\" height=\"1600\"/>\n  </clipPath>\n</defs>\n<path clip-path=\"url(#clip100)\" d=\"\nM0 1600 L2400 1600 L2400 0 L0 0  Z\n  \" fill=\"#ffffff\" fill-rule=\"evenodd\" fill-opacity=\"1\"/>\n<defs>\n  <clipPath id=\"clip101\">\n    <rect x=\"480\" y=\"0\" width=\"1681\" height=\"1600\"/>\n  </clipPath>\n</defs>\n<path clip-path=\"url(#clip100)\" d=\"\nM224.098 1486.45 L2352.76 1486.45 L2352.76 47.2441 L224.098 47.2441  Z\n  \" fill=\"#ffffff\" fill-rule=\"evenodd\" fill-opacity=\"1\"/>\n<defs>\n  <clipPath id=\"clip102\">\n    <rect x=\"224\" y=\"47\" width=\"2130\" height=\"1440\"/>\n  </clipPath>\n</defs>\n<polyline clip-path=\"url(#clip102)\" style=\"stroke:#000000; stroke-linecap:butt; stroke-linejoin:round; stroke-width:2; stroke-opacity:0.1; fill:none\" points=\"\n  264.058,1486.45 264.058,47.2441 \n  \"/>\n<polyline clip-path=\"url(#clip102)\" style=\"stroke:#000000; stroke-linecap:butt; stroke-linejoin:round; stroke-width:2; stroke-opacity:0.1; fill:none\" points=\"\n  771.172,1486.45 771.172,47.2441 \n  \"/>\n<polyline clip-path=\"url(#clip102)\" style=\"stroke:#000000; stroke-linecap:butt; stroke-linejoin:round; stroke-width:2; stroke-opacity:0.1; fill:none\" points=\"\n  1278.28,1486.45 1278.28,47.2441 \n  \"/>\n<polyline clip-path=\"url(#clip102)\" style=\"stroke:#000000; stroke-linecap:butt; stroke-linejoin:round; stroke-width:2; stroke-opacity:0.1; fill:none\" points=\"\n  1785.4,1486.45 1785.4,47.2441 \n  \"/>\n<polyline clip-path=\"url(#clip102)\" style=\"stroke:#000000; stroke-linecap:butt; stroke-linejoin:round; stroke-width:2; stroke-opacity:0.1; fill:none\" points=\"\n  2292.51,1486.45 2292.51,47.2441 \n  \"/>\n<polyline clip-path=\"url(#clip100)\" style=\"stroke:#000000; stroke-linecap:butt; stroke-linejoin:round; stroke-width:4; stroke-opacity:1; fill:none\" points=\"\n  224.098,1486.45 2352.76,1486.45 \n  \"/>\n<polyline clip-path=\"url(#clip100)\" style=\"stroke:#000000; stroke-linecap:butt; stroke-linejoin:round; stroke-width:4; stroke-opacity:1; fill:none\" points=\"\n  264.058,1486.45 264.058,1467.55 \n  \"/>\n<polyline clip-path=\"url(#clip100)\" style=\"stroke:#000000; stroke-linecap:butt; stroke-linejoin:round; stroke-width:4; stroke-opacity:1; fill:none\" points=\"\n  771.172,1486.45 771.172,1467.55 \n  \"/>\n<polyline clip-path=\"url(#clip100)\" style=\"stroke:#000000; stroke-linecap:butt; stroke-linejoin:round; stroke-width:4; stroke-opacity:1; fill:none\" points=\"\n  1278.28,1486.45 1278.28,1467.55 \n  \"/>\n<polyline clip-path=\"url(#clip100)\" style=\"stroke:#000000; stroke-linecap:butt; stroke-linejoin:round; stroke-width:4; stroke-opacity:1; fill:none\" points=\"\n  1785.4,1486.45 1785.4,1467.55 \n  \"/>\n<polyline clip-path=\"url(#clip100)\" style=\"stroke:#000000; stroke-linecap:butt; stroke-linejoin:round; stroke-width:4; stroke-opacity:1; fill:none\" points=\"\n  2292.51,1486.45 2292.51,1467.55 \n  \"/>\n<path clip-path=\"url(#clip100)\" d=\"M264.058 1517.37 Q260.447 1517.37 258.619 1520.93 Q256.813 1524.47 256.813 1531.6 Q256.813 1538.71 258.619 1542.27 Q260.447 1545.82 264.058 1545.82 Q267.693 1545.82 269.498 1542.27 Q271.327 1538.71 271.327 1531.6 Q271.327 1524.47 269.498 1520.93 Q267.693 1517.37 264.058 1517.37 M264.058 1513.66 Q269.869 1513.66 272.924 1518.27 Q276.003 1522.85 276.003 1531.6 Q276.003 1540.33 272.924 1544.94 Q269.869 1549.52 264.058 1549.52 Q258.248 1549.52 255.17 1544.94 Q252.114 1540.33 252.114 1531.6 Q252.114 1522.85 255.17 1518.27 Q258.248 1513.66 264.058 1513.66 Z\" fill=\"#000000\" fill-rule=\"evenodd\" fill-opacity=\"1\" /><path clip-path=\"url(#clip100)\" d=\"M750.442 1544.91 L766.762 1544.91 L766.762 1548.85 L744.817 1548.85 L744.817 1544.91 Q747.48 1542.16 752.063 1537.53 Q756.669 1532.88 757.85 1531.53 Q760.095 1529.01 760.975 1527.27 Q761.878 1525.51 761.878 1523.82 Q761.878 1521.07 759.933 1519.33 Q758.012 1517.6 754.91 1517.6 Q752.711 1517.6 750.257 1518.36 Q747.827 1519.13 745.049 1520.68 L745.049 1515.95 Q747.873 1514.82 750.327 1514.24 Q752.78 1513.66 754.817 1513.66 Q760.188 1513.66 763.382 1516.35 Q766.577 1519.03 766.577 1523.52 Q766.577 1525.65 765.766 1527.57 Q764.979 1529.47 762.873 1532.07 Q762.294 1532.74 759.192 1535.95 Q756.091 1539.15 750.442 1544.91 Z\" fill=\"#000000\" fill-rule=\"evenodd\" fill-opacity=\"1\" /><path clip-path=\"url(#clip100)\" d=\"M776.623 1514.29 L794.979 1514.29 L794.979 1518.22 L780.905 1518.22 L780.905 1526.7 Q781.924 1526.35 782.942 1526.19 Q783.961 1526 784.979 1526 Q790.766 1526 794.146 1529.17 Q797.526 1532.34 797.526 1537.76 Q797.526 1543.34 794.053 1546.44 Q790.581 1549.52 784.262 1549.52 Q782.086 1549.52 779.817 1549.15 Q777.572 1548.78 775.165 1548.04 L775.165 1543.34 Q777.248 1544.47 779.47 1545.03 Q781.692 1545.58 784.169 1545.58 Q788.174 1545.58 790.512 1543.48 Q792.85 1541.37 792.85 1537.76 Q792.85 1534.15 790.512 1532.04 Q788.174 1529.94 784.169 1529.94 Q782.294 1529.94 780.419 1530.35 Q778.567 1530.77 776.623 1531.65 L776.623 1514.29 Z\" fill=\"#000000\" fill-rule=\"evenodd\" fill-opacity=\"1\" /><path clip-path=\"url(#clip100)\" d=\"M1252.98 1514.29 L1271.34 1514.29 L1271.34 1518.22 L1257.27 1518.22 L1257.27 1526.7 Q1258.28 1526.35 1259.3 1526.19 Q1260.32 1526 1261.34 1526 Q1267.13 1526 1270.51 1529.17 Q1273.89 1532.34 1273.89 1537.76 Q1273.89 1543.34 1270.41 1546.44 Q1266.94 1549.52 1260.62 1549.52 Q1258.45 1549.52 1256.18 1549.15 Q1253.93 1548.78 1251.53 1548.04 L1251.53 1543.34 Q1253.61 1544.47 1255.83 1545.03 Q1258.05 1545.58 1260.53 1545.58 Q1264.53 1545.58 1266.87 1543.48 Q1269.21 1541.37 1269.21 1537.76 Q1269.21 1534.15 1266.87 1532.04 Q1264.53 1529.94 1260.53 1529.94 Q1258.66 1529.94 1256.78 1530.35 Q1254.93 1530.77 1252.98 1531.65 L1252.98 1514.29 Z\" fill=\"#000000\" fill-rule=\"evenodd\" fill-opacity=\"1\" /><path clip-path=\"url(#clip100)\" d=\"M1293.1 1517.37 Q1289.49 1517.37 1287.66 1520.93 Q1285.85 1524.47 1285.85 1531.6 Q1285.85 1538.71 1287.66 1542.27 Q1289.49 1545.82 1293.1 1545.82 Q1296.73 1545.82 1298.54 1542.27 Q1300.37 1538.71 1300.37 1531.6 Q1300.37 1524.47 1298.54 1520.93 Q1296.73 1517.37 1293.1 1517.37 M1293.1 1513.66 Q1298.91 1513.66 1301.97 1518.27 Q1305.04 1522.85 1305.04 1531.6 Q1305.04 1540.33 1301.97 1544.94 Q1298.91 1549.52 1293.1 1549.52 Q1287.29 1549.52 1284.21 1544.94 Q1281.15 1540.33 1281.15 1531.6 Q1281.15 1522.85 1284.21 1518.27 Q1287.29 1513.66 1293.1 1513.66 Z\" fill=\"#000000\" fill-rule=\"evenodd\" fill-opacity=\"1\" /><path clip-path=\"url(#clip100)\" d=\"M1759.25 1514.29 L1781.47 1514.29 L1781.47 1516.28 L1768.93 1548.85 L1764.04 1548.85 L1775.85 1518.22 L1759.25 1518.22 L1759.25 1514.29 Z\" fill=\"#000000\" fill-rule=\"evenodd\" fill-opacity=\"1\" /><path clip-path=\"url(#clip100)\" d=\"M1790.64 1514.29 L1809 1514.29 L1809 1518.22 L1794.92 1518.22 L1794.92 1526.7 Q1795.94 1526.35 1796.96 1526.19 Q1797.98 1526 1799 1526 Q1804.78 1526 1808.16 1529.17 Q1811.54 1532.34 1811.54 1537.76 Q1811.54 1543.34 1808.07 1546.44 Q1804.6 1549.52 1798.28 1549.52 Q1796.1 1549.52 1793.84 1549.15 Q1791.59 1548.78 1789.18 1548.04 L1789.18 1543.34 Q1791.27 1544.47 1793.49 1545.03 Q1795.71 1545.58 1798.19 1545.58 Q1802.19 1545.58 1804.53 1543.48 Q1806.87 1541.37 1806.87 1537.76 Q1806.87 1534.15 1804.53 1532.04 Q1802.19 1529.94 1798.19 1529.94 Q1796.31 1529.94 1794.44 1530.35 Q1792.59 1530.77 1790.64 1531.65 L1790.64 1514.29 Z\" fill=\"#000000\" fill-rule=\"evenodd\" fill-opacity=\"1\" /><path clip-path=\"url(#clip100)\" d=\"M2252.12 1544.91 L2259.76 1544.91 L2259.76 1518.55 L2251.45 1520.21 L2251.45 1515.95 L2259.71 1514.29 L2264.39 1514.29 L2264.39 1544.91 L2272.02 1544.91 L2272.02 1548.85 L2252.12 1548.85 L2252.12 1544.91 Z\" fill=\"#000000\" fill-rule=\"evenodd\" fill-opacity=\"1\" /><path clip-path=\"url(#clip100)\" d=\"M2291.47 1517.37 Q2287.86 1517.37 2286.03 1520.93 Q2284.22 1524.47 2284.22 1531.6 Q2284.22 1538.71 2286.03 1542.27 Q2287.86 1545.82 2291.47 1545.82 Q2295.1 1545.82 2296.91 1542.27 Q2298.74 1538.71 2298.74 1531.6 Q2298.74 1524.47 2296.91 1520.93 Q2295.1 1517.37 2291.47 1517.37 M2291.47 1513.66 Q2297.28 1513.66 2300.33 1518.27 Q2303.41 1522.85 2303.41 1531.6 Q2303.41 1540.33 2300.33 1544.94 Q2297.28 1549.52 2291.47 1549.52 Q2285.66 1549.52 2282.58 1544.94 Q2279.52 1540.33 2279.52 1531.6 Q2279.52 1522.85 2282.58 1518.27 Q2285.66 1513.66 2291.47 1513.66 Z\" fill=\"#000000\" fill-rule=\"evenodd\" fill-opacity=\"1\" /><path clip-path=\"url(#clip100)\" d=\"M2321.63 1517.37 Q2318.02 1517.37 2316.19 1520.93 Q2314.39 1524.47 2314.39 1531.6 Q2314.39 1538.71 2316.19 1542.27 Q2318.02 1545.82 2321.63 1545.82 Q2325.27 1545.82 2327.07 1542.27 Q2328.9 1538.71 2328.9 1531.6 Q2328.9 1524.47 2327.07 1520.93 Q2325.27 1517.37 2321.63 1517.37 M2321.63 1513.66 Q2327.44 1513.66 2330.5 1518.27 Q2333.58 1522.85 2333.58 1531.6 Q2333.58 1540.33 2330.5 1544.94 Q2327.44 1549.52 2321.63 1549.52 Q2315.82 1549.52 2312.74 1544.94 Q2309.69 1540.33 2309.69 1531.6 Q2309.69 1522.85 2312.74 1518.27 Q2315.82 1513.66 2321.63 1513.66 Z\" fill=\"#000000\" fill-rule=\"evenodd\" fill-opacity=\"1\" /><polyline clip-path=\"url(#clip102)\" style=\"stroke:#000000; stroke-linecap:butt; stroke-linejoin:round; stroke-width:2; stroke-opacity:0.1; fill:none\" points=\"\n  224.098,1338.49 2352.76,1338.49 \n  \"/>\n<polyline clip-path=\"url(#clip102)\" style=\"stroke:#000000; stroke-linecap:butt; stroke-linejoin:round; stroke-width:2; stroke-opacity:0.1; fill:none\" points=\"\n  224.098,1147.94 2352.76,1147.94 \n  \"/>\n<polyline clip-path=\"url(#clip102)\" style=\"stroke:#000000; stroke-linecap:butt; stroke-linejoin:round; stroke-width:2; stroke-opacity:0.1; fill:none\" points=\"\n  224.098,957.395 2352.76,957.395 \n  \"/>\n<polyline clip-path=\"url(#clip102)\" style=\"stroke:#000000; stroke-linecap:butt; stroke-linejoin:round; stroke-width:2; stroke-opacity:0.1; fill:none\" points=\"\n  224.098,766.846 2352.76,766.846 \n  \"/>\n<polyline clip-path=\"url(#clip102)\" style=\"stroke:#000000; stroke-linecap:butt; stroke-linejoin:round; stroke-width:2; stroke-opacity:0.1; fill:none\" points=\"\n  224.098,576.298 2352.76,576.298 \n  \"/>\n<polyline clip-path=\"url(#clip102)\" style=\"stroke:#000000; stroke-linecap:butt; stroke-linejoin:round; stroke-width:2; stroke-opacity:0.1; fill:none\" points=\"\n  224.098,385.75 2352.76,385.75 \n  \"/>\n<polyline clip-path=\"url(#clip102)\" style=\"stroke:#000000; stroke-linecap:butt; stroke-linejoin:round; stroke-width:2; stroke-opacity:0.1; fill:none\" points=\"\n  224.098,195.201 2352.76,195.201 \n  \"/>\n<polyline clip-path=\"url(#clip100)\" style=\"stroke:#000000; stroke-linecap:butt; stroke-linejoin:round; stroke-width:4; stroke-opacity:1; fill:none\" points=\"\n  224.098,1486.45 224.098,47.2441 \n  \"/>\n<polyline clip-path=\"url(#clip100)\" style=\"stroke:#000000; stroke-linecap:butt; stroke-linejoin:round; stroke-width:4; stroke-opacity:1; fill:none\" points=\"\n  224.098,1338.49 242.996,1338.49 \n  \"/>\n<polyline clip-path=\"url(#clip100)\" style=\"stroke:#000000; stroke-linecap:butt; stroke-linejoin:round; stroke-width:4; stroke-opacity:1; fill:none\" points=\"\n  224.098,1147.94 242.996,1147.94 \n  \"/>\n<polyline clip-path=\"url(#clip100)\" style=\"stroke:#000000; stroke-linecap:butt; stroke-linejoin:round; stroke-width:4; stroke-opacity:1; fill:none\" points=\"\n  224.098,957.395 242.996,957.395 \n  \"/>\n<polyline clip-path=\"url(#clip100)\" style=\"stroke:#000000; stroke-linecap:butt; stroke-linejoin:round; stroke-width:4; stroke-opacity:1; fill:none\" points=\"\n  224.098,766.846 242.996,766.846 \n  \"/>\n<polyline clip-path=\"url(#clip100)\" style=\"stroke:#000000; stroke-linecap:butt; stroke-linejoin:round; stroke-width:4; stroke-opacity:1; fill:none\" points=\"\n  224.098,576.298 242.996,576.298 \n  \"/>\n<polyline clip-path=\"url(#clip100)\" style=\"stroke:#000000; stroke-linecap:butt; stroke-linejoin:round; stroke-width:4; stroke-opacity:1; fill:none\" points=\"\n  224.098,385.75 242.996,385.75 \n  \"/>\n<polyline clip-path=\"url(#clip100)\" style=\"stroke:#000000; stroke-linecap:butt; stroke-linejoin:round; stroke-width:4; stroke-opacity:1; fill:none\" points=\"\n  224.098,195.201 242.996,195.201 \n  \"/>\n<path clip-path=\"url(#clip100)\" d=\"M51.9875 1338.94 L81.6633 1338.94 L81.6633 1342.88 L51.9875 1342.88 L51.9875 1338.94 Z\" fill=\"#000000\" fill-rule=\"evenodd\" fill-opacity=\"1\" /><path clip-path=\"url(#clip100)\" d=\"M101.756 1324.29 Q98.1447 1324.29 96.316 1327.85 Q94.5104 1331.4 94.5104 1338.53 Q94.5104 1345.63 96.316 1349.2 Q98.1447 1352.74 101.756 1352.74 Q105.39 1352.74 107.196 1349.2 Q109.024 1345.63 109.024 1338.53 Q109.024 1331.4 107.196 1327.85 Q105.39 1324.29 101.756 1324.29 M101.756 1320.59 Q107.566 1320.59 110.621 1325.19 Q113.7 1329.78 113.7 1338.53 Q113.7 1347.25 110.621 1351.86 Q107.566 1356.44 101.756 1356.44 Q95.9456 1356.44 92.8669 1351.86 Q89.8114 1347.25 89.8114 1338.53 Q89.8114 1329.78 92.8669 1325.19 Q95.9456 1320.59 101.756 1320.59 Z\" fill=\"#000000\" fill-rule=\"evenodd\" fill-opacity=\"1\" /><path clip-path=\"url(#clip100)\" d=\"M121.918 1349.89 L126.802 1349.89 L126.802 1355.77 L121.918 1355.77 L121.918 1349.89 Z\" fill=\"#000000\" fill-rule=\"evenodd\" fill-opacity=\"1\" /><path clip-path=\"url(#clip100)\" d=\"M137.797 1351.84 L145.436 1351.84 L145.436 1325.47 L137.126 1327.14 L137.126 1322.88 L145.39 1321.21 L150.066 1321.21 L150.066 1351.84 L157.705 1351.84 L157.705 1355.77 L137.797 1355.77 L137.797 1351.84 Z\" fill=\"#000000\" fill-rule=\"evenodd\" fill-opacity=\"1\" /><path clip-path=\"url(#clip100)\" d=\"M167.195 1321.21 L185.552 1321.21 L185.552 1325.15 L171.478 1325.15 L171.478 1333.62 Q172.496 1333.27 173.515 1333.11 Q174.533 1332.92 175.552 1332.92 Q181.339 1332.92 184.718 1336.1 Q188.098 1339.27 188.098 1344.68 Q188.098 1350.26 184.626 1353.36 Q181.153 1356.44 174.834 1356.44 Q172.658 1356.44 170.39 1356.07 Q168.144 1355.7 165.737 1354.96 L165.737 1350.26 Q167.82 1351.4 170.042 1351.95 Q172.265 1352.51 174.741 1352.51 Q178.746 1352.51 181.084 1350.4 Q183.422 1348.29 183.422 1344.68 Q183.422 1341.07 181.084 1338.97 Q178.746 1336.86 174.741 1336.86 Q172.866 1336.86 170.991 1337.28 Q169.14 1337.69 167.195 1338.57 L167.195 1321.21 Z\" fill=\"#000000\" fill-rule=\"evenodd\" fill-opacity=\"1\" /><path clip-path=\"url(#clip100)\" d=\"M50.9921 1148.39 L80.6679 1148.39 L80.6679 1152.33 L50.9921 1152.33 L50.9921 1148.39 Z\" fill=\"#000000\" fill-rule=\"evenodd\" fill-opacity=\"1\" /><path clip-path=\"url(#clip100)\" d=\"M100.76 1133.74 Q97.1493 1133.74 95.3206 1137.31 Q93.515 1140.85 93.515 1147.98 Q93.515 1155.08 95.3206 1158.65 Q97.1493 1162.19 100.76 1162.19 Q104.395 1162.19 106.2 1158.65 Q108.029 1155.08 108.029 1147.98 Q108.029 1140.85 106.2 1137.31 Q104.395 1133.74 100.76 1133.74 M100.76 1130.04 Q106.571 1130.04 109.626 1134.64 Q112.705 1139.23 112.705 1147.98 Q112.705 1156.7 109.626 1161.31 Q106.571 1165.89 100.76 1165.89 Q94.9502 1165.89 91.8715 1161.31 Q88.816 1156.7 88.816 1147.98 Q88.816 1139.23 91.8715 1134.64 Q94.9502 1130.04 100.76 1130.04 Z\" fill=\"#000000\" fill-rule=\"evenodd\" fill-opacity=\"1\" /><path clip-path=\"url(#clip100)\" d=\"M120.922 1159.34 L125.807 1159.34 L125.807 1165.22 L120.922 1165.22 L120.922 1159.34 Z\" fill=\"#000000\" fill-rule=\"evenodd\" fill-opacity=\"1\" /><path clip-path=\"url(#clip100)\" d=\"M136.802 1161.29 L144.441 1161.29 L144.441 1134.92 L136.131 1136.59 L136.131 1132.33 L144.394 1130.66 L149.07 1130.66 L149.07 1161.29 L156.709 1161.29 L156.709 1165.22 L136.802 1165.22 L136.802 1161.29 Z\" fill=\"#000000\" fill-rule=\"evenodd\" fill-opacity=\"1\" /><path clip-path=\"url(#clip100)\" d=\"M176.153 1133.74 Q172.542 1133.74 170.714 1137.31 Q168.908 1140.85 168.908 1147.98 Q168.908 1155.08 170.714 1158.65 Q172.542 1162.19 176.153 1162.19 Q179.788 1162.19 181.593 1158.65 Q183.422 1155.08 183.422 1147.98 Q183.422 1140.85 181.593 1137.31 Q179.788 1133.74 176.153 1133.74 M176.153 1130.04 Q181.964 1130.04 185.019 1134.64 Q188.098 1139.23 188.098 1147.98 Q188.098 1156.7 185.019 1161.31 Q181.964 1165.89 176.153 1165.89 Q170.343 1165.89 167.265 1161.31 Q164.209 1156.7 164.209 1147.98 Q164.209 1139.23 167.265 1134.64 Q170.343 1130.04 176.153 1130.04 Z\" fill=\"#000000\" fill-rule=\"evenodd\" fill-opacity=\"1\" /><path clip-path=\"url(#clip100)\" d=\"M51.9875 957.846 L81.6633 957.846 L81.6633 961.781 L51.9875 961.781 L51.9875 957.846 Z\" fill=\"#000000\" fill-rule=\"evenodd\" fill-opacity=\"1\" /><path clip-path=\"url(#clip100)\" d=\"M101.756 943.193 Q98.1447 943.193 96.316 946.758 Q94.5104 950.3 94.5104 957.429 Q94.5104 964.536 96.316 968.101 Q98.1447 971.642 101.756 971.642 Q105.39 971.642 107.196 968.101 Q109.024 964.536 109.024 957.429 Q109.024 950.3 107.196 946.758 Q105.39 943.193 101.756 943.193 M101.756 939.49 Q107.566 939.49 110.621 944.096 Q113.7 948.679 113.7 957.429 Q113.7 966.156 110.621 970.763 Q107.566 975.346 101.756 975.346 Q95.9456 975.346 92.8669 970.763 Q89.8114 966.156 89.8114 957.429 Q89.8114 948.679 92.8669 944.096 Q95.9456 939.49 101.756 939.49 Z\" fill=\"#000000\" fill-rule=\"evenodd\" fill-opacity=\"1\" /><path clip-path=\"url(#clip100)\" d=\"M121.918 968.795 L126.802 968.795 L126.802 974.675 L121.918 974.675 L121.918 968.795 Z\" fill=\"#000000\" fill-rule=\"evenodd\" fill-opacity=\"1\" /><path clip-path=\"url(#clip100)\" d=\"M146.987 943.193 Q143.376 943.193 141.547 946.758 Q139.742 950.3 139.742 957.429 Q139.742 964.536 141.547 968.101 Q143.376 971.642 146.987 971.642 Q150.621 971.642 152.427 968.101 Q154.255 964.536 154.255 957.429 Q154.255 950.3 152.427 946.758 Q150.621 943.193 146.987 943.193 M146.987 939.49 Q152.797 939.49 155.853 944.096 Q158.931 948.679 158.931 957.429 Q158.931 966.156 155.853 970.763 Q152.797 975.346 146.987 975.346 Q141.177 975.346 138.098 970.763 Q135.043 966.156 135.043 957.429 Q135.043 948.679 138.098 944.096 Q141.177 939.49 146.987 939.49 Z\" fill=\"#000000\" fill-rule=\"evenodd\" fill-opacity=\"1\" /><path clip-path=\"url(#clip100)\" d=\"M167.195 940.115 L185.552 940.115 L185.552 944.05 L171.478 944.05 L171.478 952.522 Q172.496 952.175 173.515 952.013 Q174.533 951.827 175.552 951.827 Q181.339 951.827 184.718 954.999 Q188.098 958.17 188.098 963.587 Q188.098 969.165 184.626 972.267 Q181.153 975.346 174.834 975.346 Q172.658 975.346 170.39 974.976 Q168.144 974.605 165.737 973.864 L165.737 969.165 Q167.82 970.3 170.042 970.855 Q172.265 971.411 174.741 971.411 Q178.746 971.411 181.084 969.304 Q183.422 967.198 183.422 963.587 Q183.422 959.976 181.084 957.869 Q178.746 955.763 174.741 955.763 Q172.866 955.763 170.991 956.179 Q169.14 956.596 167.195 957.476 L167.195 940.115 Z\" fill=\"#000000\" fill-rule=\"evenodd\" fill-opacity=\"1\" /><path clip-path=\"url(#clip100)\" d=\"M100.76 752.645 Q97.1493 752.645 95.3206 756.21 Q93.515 759.751 93.515 766.881 Q93.515 773.987 95.3206 777.552 Q97.1493 781.094 100.76 781.094 Q104.395 781.094 106.2 777.552 Q108.029 773.987 108.029 766.881 Q108.029 759.751 106.2 756.21 Q104.395 752.645 100.76 752.645 M100.76 748.941 Q106.571 748.941 109.626 753.548 Q112.705 758.131 112.705 766.881 Q112.705 775.608 109.626 780.214 Q106.571 784.798 100.76 784.798 Q94.9502 784.798 91.8715 780.214 Q88.816 775.608 88.816 766.881 Q88.816 758.131 91.8715 753.548 Q94.9502 748.941 100.76 748.941 Z\" fill=\"#000000\" fill-rule=\"evenodd\" fill-opacity=\"1\" /><path clip-path=\"url(#clip100)\" d=\"M120.922 778.247 L125.807 778.247 L125.807 784.126 L120.922 784.126 L120.922 778.247 Z\" fill=\"#000000\" fill-rule=\"evenodd\" fill-opacity=\"1\" /><path clip-path=\"url(#clip100)\" d=\"M145.992 752.645 Q142.381 752.645 140.552 756.21 Q138.746 759.751 138.746 766.881 Q138.746 773.987 140.552 777.552 Q142.381 781.094 145.992 781.094 Q149.626 781.094 151.431 777.552 Q153.26 773.987 153.26 766.881 Q153.26 759.751 151.431 756.21 Q149.626 752.645 145.992 752.645 M145.992 748.941 Q151.802 748.941 154.857 753.548 Q157.936 758.131 157.936 766.881 Q157.936 775.608 154.857 780.214 Q151.802 784.798 145.992 784.798 Q140.181 784.798 137.103 780.214 Q134.047 775.608 134.047 766.881 Q134.047 758.131 137.103 753.548 Q140.181 748.941 145.992 748.941 Z\" fill=\"#000000\" fill-rule=\"evenodd\" fill-opacity=\"1\" /><path clip-path=\"url(#clip100)\" d=\"M176.153 752.645 Q172.542 752.645 170.714 756.21 Q168.908 759.751 168.908 766.881 Q168.908 773.987 170.714 777.552 Q172.542 781.094 176.153 781.094 Q179.788 781.094 181.593 777.552 Q183.422 773.987 183.422 766.881 Q183.422 759.751 181.593 756.21 Q179.788 752.645 176.153 752.645 M176.153 748.941 Q181.964 748.941 185.019 753.548 Q188.098 758.131 188.098 766.881 Q188.098 775.608 185.019 780.214 Q181.964 784.798 176.153 784.798 Q170.343 784.798 167.265 780.214 Q164.209 775.608 164.209 766.881 Q164.209 758.131 167.265 753.548 Q170.343 748.941 176.153 748.941 Z\" fill=\"#000000\" fill-rule=\"evenodd\" fill-opacity=\"1\" /><path clip-path=\"url(#clip100)\" d=\"M101.756 562.097 Q98.1447 562.097 96.316 565.661 Q94.5104 569.203 94.5104 576.333 Q94.5104 583.439 96.316 587.004 Q98.1447 590.546 101.756 590.546 Q105.39 590.546 107.196 587.004 Q109.024 583.439 109.024 576.333 Q109.024 569.203 107.196 565.661 Q105.39 562.097 101.756 562.097 M101.756 558.393 Q107.566 558.393 110.621 562.999 Q113.7 567.583 113.7 576.333 Q113.7 585.059 110.621 589.666 Q107.566 594.249 101.756 594.249 Q95.9456 594.249 92.8669 589.666 Q89.8114 585.059 89.8114 576.333 Q89.8114 567.583 92.8669 562.999 Q95.9456 558.393 101.756 558.393 Z\" fill=\"#000000\" fill-rule=\"evenodd\" fill-opacity=\"1\" /><path clip-path=\"url(#clip100)\" d=\"M121.918 587.698 L126.802 587.698 L126.802 593.578 L121.918 593.578 L121.918 587.698 Z\" fill=\"#000000\" fill-rule=\"evenodd\" fill-opacity=\"1\" /><path clip-path=\"url(#clip100)\" d=\"M146.987 562.097 Q143.376 562.097 141.547 565.661 Q139.742 569.203 139.742 576.333 Q139.742 583.439 141.547 587.004 Q143.376 590.546 146.987 590.546 Q150.621 590.546 152.427 587.004 Q154.255 583.439 154.255 576.333 Q154.255 569.203 152.427 565.661 Q150.621 562.097 146.987 562.097 M146.987 558.393 Q152.797 558.393 155.853 562.999 Q158.931 567.583 158.931 576.333 Q158.931 585.059 155.853 589.666 Q152.797 594.249 146.987 594.249 Q141.177 594.249 138.098 589.666 Q135.043 585.059 135.043 576.333 Q135.043 567.583 138.098 562.999 Q141.177 558.393 146.987 558.393 Z\" fill=\"#000000\" fill-rule=\"evenodd\" fill-opacity=\"1\" /><path clip-path=\"url(#clip100)\" d=\"M167.195 559.018 L185.552 559.018 L185.552 562.953 L171.478 562.953 L171.478 571.425 Q172.496 571.078 173.515 570.916 Q174.533 570.731 175.552 570.731 Q181.339 570.731 184.718 573.902 Q188.098 577.073 188.098 582.49 Q188.098 588.069 184.626 591.171 Q181.153 594.249 174.834 594.249 Q172.658 594.249 170.39 593.879 Q168.144 593.509 165.737 592.768 L165.737 588.069 Q167.82 589.203 170.042 589.759 Q172.265 590.314 174.741 590.314 Q178.746 590.314 181.084 588.208 Q183.422 586.101 183.422 582.49 Q183.422 578.879 181.084 576.772 Q178.746 574.666 174.741 574.666 Q172.866 574.666 170.991 575.083 Q169.14 575.499 167.195 576.379 L167.195 559.018 Z\" fill=\"#000000\" fill-rule=\"evenodd\" fill-opacity=\"1\" /><path clip-path=\"url(#clip100)\" d=\"M100.76 371.548 Q97.1493 371.548 95.3206 375.113 Q93.515 378.655 93.515 385.784 Q93.515 392.891 95.3206 396.456 Q97.1493 399.997 100.76 399.997 Q104.395 399.997 106.2 396.456 Q108.029 392.891 108.029 385.784 Q108.029 378.655 106.2 375.113 Q104.395 371.548 100.76 371.548 M100.76 367.845 Q106.571 367.845 109.626 372.451 Q112.705 377.034 112.705 385.784 Q112.705 394.511 109.626 399.118 Q106.571 403.701 100.76 403.701 Q94.9502 403.701 91.8715 399.118 Q88.816 394.511 88.816 385.784 Q88.816 377.034 91.8715 372.451 Q94.9502 367.845 100.76 367.845 Z\" fill=\"#000000\" fill-rule=\"evenodd\" fill-opacity=\"1\" /><path clip-path=\"url(#clip100)\" d=\"M120.922 397.15 L125.807 397.15 L125.807 403.03 L120.922 403.03 L120.922 397.15 Z\" fill=\"#000000\" fill-rule=\"evenodd\" fill-opacity=\"1\" /><path clip-path=\"url(#clip100)\" d=\"M136.802 399.094 L144.441 399.094 L144.441 372.729 L136.131 374.396 L136.131 370.136 L144.394 368.47 L149.07 368.47 L149.07 399.094 L156.709 399.094 L156.709 403.03 L136.802 403.03 L136.802 399.094 Z\" fill=\"#000000\" fill-rule=\"evenodd\" fill-opacity=\"1\" /><path clip-path=\"url(#clip100)\" d=\"M176.153 371.548 Q172.542 371.548 170.714 375.113 Q168.908 378.655 168.908 385.784 Q168.908 392.891 170.714 396.456 Q172.542 399.997 176.153 399.997 Q179.788 399.997 181.593 396.456 Q183.422 392.891 183.422 385.784 Q183.422 378.655 181.593 375.113 Q179.788 371.548 176.153 371.548 M176.153 367.845 Q181.964 367.845 185.019 372.451 Q188.098 377.034 188.098 385.784 Q188.098 394.511 185.019 399.118 Q181.964 403.701 176.153 403.701 Q170.343 403.701 167.265 399.118 Q164.209 394.511 164.209 385.784 Q164.209 377.034 167.265 372.451 Q170.343 367.845 176.153 367.845 Z\" fill=\"#000000\" fill-rule=\"evenodd\" fill-opacity=\"1\" /><path clip-path=\"url(#clip100)\" d=\"M101.756 181 Q98.1447 181 96.316 184.565 Q94.5104 188.106 94.5104 195.236 Q94.5104 202.342 96.316 205.907 Q98.1447 209.449 101.756 209.449 Q105.39 209.449 107.196 205.907 Q109.024 202.342 109.024 195.236 Q109.024 188.106 107.196 184.565 Q105.39 181 101.756 181 M101.756 177.296 Q107.566 177.296 110.621 181.903 Q113.7 186.486 113.7 195.236 Q113.7 203.963 110.621 208.569 Q107.566 213.153 101.756 213.153 Q95.9456 213.153 92.8669 208.569 Q89.8114 203.963 89.8114 195.236 Q89.8114 186.486 92.8669 181.903 Q95.9456 177.296 101.756 177.296 Z\" fill=\"#000000\" fill-rule=\"evenodd\" fill-opacity=\"1\" /><path clip-path=\"url(#clip100)\" d=\"M121.918 206.602 L126.802 206.602 L126.802 212.481 L121.918 212.481 L121.918 206.602 Z\" fill=\"#000000\" fill-rule=\"evenodd\" fill-opacity=\"1\" /><path clip-path=\"url(#clip100)\" d=\"M137.797 208.546 L145.436 208.546 L145.436 182.181 L137.126 183.847 L137.126 179.588 L145.39 177.921 L150.066 177.921 L150.066 208.546 L157.705 208.546 L157.705 212.481 L137.797 212.481 L137.797 208.546 Z\" fill=\"#000000\" fill-rule=\"evenodd\" fill-opacity=\"1\" /><path clip-path=\"url(#clip100)\" d=\"M167.195 177.921 L185.552 177.921 L185.552 181.856 L171.478 181.856 L171.478 190.329 Q172.496 189.981 173.515 189.819 Q174.533 189.634 175.552 189.634 Q181.339 189.634 184.718 192.805 Q188.098 195.977 188.098 201.393 Q188.098 206.972 184.626 210.074 Q181.153 213.153 174.834 213.153 Q172.658 213.153 170.39 212.782 Q168.144 212.412 165.737 211.671 L165.737 206.972 Q167.82 208.106 170.042 208.662 Q172.265 209.217 174.741 209.217 Q178.746 209.217 181.084 207.111 Q183.422 205.004 183.422 201.393 Q183.422 197.782 181.084 195.676 Q178.746 193.569 174.741 193.569 Q172.866 193.569 170.991 193.986 Q169.14 194.403 167.195 195.282 L167.195 177.921 Z\" fill=\"#000000\" fill-rule=\"evenodd\" fill-opacity=\"1\" /><polyline clip-path=\"url(#clip102)\" style=\"stroke:#009af9; stroke-linecap:butt; stroke-linejoin:round; stroke-width:4; stroke-opacity:1; fill:none\" points=\"\n  284.343,821.844 304.627,661.306 324.912,914.378 345.196,589.274 365.481,960.072 385.766,573.62 406.05,944.418 426.335,619.314 446.619,872.387 466.904,711.848 \n  487.188,661.306 507.473,969.377 527.757,483.734 548.042,1107.6 568.326,396.048 588.611,1137.64 608.895,426.088 629.18,1049.96 649.464,564.316 669.749,872.387 \n  690.033,914.379 710.318,483.734 730.602,1162.6 750.887,290.507 771.172,1285.18 791.456,248.516 811.741,1243.18 832.025,371.09 852.31,1049.96 872.594,619.314 \n  892.879,589.274 913.163,1107.6 933.448,290.507 953.732,1340.18 974.017,142.975 994.301,1390.72 1014.59,193.518 1034.87,1243.18 1055.15,426.088 1075.44,944.418 \n  1095.72,960.073 1116.01,396.047 1136.29,1285.18 1156.58,142.974 1176.86,1445.72 1197.15,87.9776 1217.43,1390.72 1237.72,248.516 1258,1137.64 1278.28,573.62 \n  1298.57,573.62 1318.85,1137.65 1339.14,248.514 1359.42,1390.72 1379.71,87.9763 1399.99,1445.72 1420.28,142.976 1440.56,1285.18 1460.85,396.049 1481.13,960.072 \n  1501.41,944.419 1521.7,426.086 1541.98,1243.19 1562.27,193.516 1582.55,1390.72 1602.84,142.975 1623.12,1340.18 1643.41,290.509 1663.69,1107.6 1683.98,589.274 \n  1704.26,619.313 1724.54,1049.96 1744.83,371.088 1765.11,1243.19 1785.4,248.514 1805.68,1285.18 1825.97,290.507 1846.25,1162.6 1866.54,483.735 1886.82,914.378 \n  1907.1,872.387 1927.39,564.315 1947.67,1049.96 1967.96,426.086 1988.24,1137.65 2008.53,396.047 2028.81,1107.61 2049.1,483.734 2069.38,969.376 2089.67,661.306 \n  2109.95,711.848 2130.23,872.387 2150.52,619.313 2170.8,944.419 2191.09,573.619 2211.37,960.073 2231.66,589.274 2251.94,914.378 2272.23,661.306 2292.51,821.844 \n  \n  \"/>\n<path clip-path=\"url(#clip100)\" d=\"\nM1992.85 198.898 L2281.8 198.898 L2281.8 95.2176 L1992.85 95.2176  Z\n  \" fill=\"#ffffff\" fill-rule=\"evenodd\" fill-opacity=\"1\"/>\n<polyline clip-path=\"url(#clip100)\" style=\"stroke:#000000; stroke-linecap:butt; stroke-linejoin:round; stroke-width:4; stroke-opacity:1; fill:none\" points=\"\n  1992.85,198.898 2281.8,198.898 2281.8,95.2176 1992.85,95.2176 1992.85,198.898 \n  \"/>\n<polyline clip-path=\"url(#clip100)\" style=\"stroke:#009af9; stroke-linecap:butt; stroke-linejoin:round; stroke-width:4; stroke-opacity:1; fill:none\" points=\"\n  2016.5,147.058 2158.42,147.058 \n  \"/>\n<path clip-path=\"url(#clip100)\" d=\"M2195.91 166.745 Q2194.1 171.375 2192.39 172.787 Q2190.68 174.199 2187.81 174.199 L2184.4 174.199 L2184.4 170.634 L2186.9 170.634 Q2188.66 170.634 2189.64 169.8 Q2190.61 168.967 2191.79 165.865 L2192.55 163.921 L2182.07 138.412 L2186.58 138.412 L2194.68 158.689 L2202.78 138.412 L2207.3 138.412 L2195.91 166.745 Z\" fill=\"#000000\" fill-rule=\"evenodd\" fill-opacity=\"1\" /><path clip-path=\"url(#clip100)\" d=\"M2214.59 160.402 L2222.23 160.402 L2222.23 134.037 L2213.92 135.703 L2213.92 131.444 L2222.18 129.778 L2226.86 129.778 L2226.86 160.402 L2234.5 160.402 L2234.5 164.338 L2214.59 164.338 L2214.59 160.402 Z\" fill=\"#000000\" fill-rule=\"evenodd\" fill-opacity=\"1\" /></svg>\n",
      "text/html": [
       "<?xml version=\"1.0\" encoding=\"utf-8\"?>\n",
       "<svg xmlns=\"http://www.w3.org/2000/svg\" xmlns:xlink=\"http://www.w3.org/1999/xlink\" width=\"600\" height=\"400\" viewBox=\"0 0 2400 1600\">\n",
       "<defs>\n",
       "  <clipPath id=\"clip150\">\n",
       "    <rect x=\"0\" y=\"0\" width=\"2400\" height=\"1600\"/>\n",
       "  </clipPath>\n",
       "</defs>\n",
       "<path clip-path=\"url(#clip150)\" d=\"\n",
       "M0 1600 L2400 1600 L2400 0 L0 0  Z\n",
       "  \" fill=\"#ffffff\" fill-rule=\"evenodd\" fill-opacity=\"1\"/>\n",
       "<defs>\n",
       "  <clipPath id=\"clip151\">\n",
       "    <rect x=\"480\" y=\"0\" width=\"1681\" height=\"1600\"/>\n",
       "  </clipPath>\n",
       "</defs>\n",
       "<path clip-path=\"url(#clip150)\" d=\"\n",
       "M224.098 1486.45 L2352.76 1486.45 L2352.76 47.2441 L224.098 47.2441  Z\n",
       "  \" fill=\"#ffffff\" fill-rule=\"evenodd\" fill-opacity=\"1\"/>\n",
       "<defs>\n",
       "  <clipPath id=\"clip152\">\n",
       "    <rect x=\"224\" y=\"47\" width=\"2130\" height=\"1440\"/>\n",
       "  </clipPath>\n",
       "</defs>\n",
       "<polyline clip-path=\"url(#clip152)\" style=\"stroke:#000000; stroke-linecap:butt; stroke-linejoin:round; stroke-width:2; stroke-opacity:0.1; fill:none\" points=\"\n",
       "  264.058,1486.45 264.058,47.2441 \n",
       "  \"/>\n",
       "<polyline clip-path=\"url(#clip152)\" style=\"stroke:#000000; stroke-linecap:butt; stroke-linejoin:round; stroke-width:2; stroke-opacity:0.1; fill:none\" points=\"\n",
       "  771.172,1486.45 771.172,47.2441 \n",
       "  \"/>\n",
       "<polyline clip-path=\"url(#clip152)\" style=\"stroke:#000000; stroke-linecap:butt; stroke-linejoin:round; stroke-width:2; stroke-opacity:0.1; fill:none\" points=\"\n",
       "  1278.28,1486.45 1278.28,47.2441 \n",
       "  \"/>\n",
       "<polyline clip-path=\"url(#clip152)\" style=\"stroke:#000000; stroke-linecap:butt; stroke-linejoin:round; stroke-width:2; stroke-opacity:0.1; fill:none\" points=\"\n",
       "  1785.4,1486.45 1785.4,47.2441 \n",
       "  \"/>\n",
       "<polyline clip-path=\"url(#clip152)\" style=\"stroke:#000000; stroke-linecap:butt; stroke-linejoin:round; stroke-width:2; stroke-opacity:0.1; fill:none\" points=\"\n",
       "  2292.51,1486.45 2292.51,47.2441 \n",
       "  \"/>\n",
       "<polyline clip-path=\"url(#clip150)\" style=\"stroke:#000000; stroke-linecap:butt; stroke-linejoin:round; stroke-width:4; stroke-opacity:1; fill:none\" points=\"\n",
       "  224.098,1486.45 2352.76,1486.45 \n",
       "  \"/>\n",
       "<polyline clip-path=\"url(#clip150)\" style=\"stroke:#000000; stroke-linecap:butt; stroke-linejoin:round; stroke-width:4; stroke-opacity:1; fill:none\" points=\"\n",
       "  264.058,1486.45 264.058,1467.55 \n",
       "  \"/>\n",
       "<polyline clip-path=\"url(#clip150)\" style=\"stroke:#000000; stroke-linecap:butt; stroke-linejoin:round; stroke-width:4; stroke-opacity:1; fill:none\" points=\"\n",
       "  771.172,1486.45 771.172,1467.55 \n",
       "  \"/>\n",
       "<polyline clip-path=\"url(#clip150)\" style=\"stroke:#000000; stroke-linecap:butt; stroke-linejoin:round; stroke-width:4; stroke-opacity:1; fill:none\" points=\"\n",
       "  1278.28,1486.45 1278.28,1467.55 \n",
       "  \"/>\n",
       "<polyline clip-path=\"url(#clip150)\" style=\"stroke:#000000; stroke-linecap:butt; stroke-linejoin:round; stroke-width:4; stroke-opacity:1; fill:none\" points=\"\n",
       "  1785.4,1486.45 1785.4,1467.55 \n",
       "  \"/>\n",
       "<polyline clip-path=\"url(#clip150)\" style=\"stroke:#000000; stroke-linecap:butt; stroke-linejoin:round; stroke-width:4; stroke-opacity:1; fill:none\" points=\"\n",
       "  2292.51,1486.45 2292.51,1467.55 \n",
       "  \"/>\n",
       "<path clip-path=\"url(#clip150)\" d=\"M264.058 1517.37 Q260.447 1517.37 258.619 1520.93 Q256.813 1524.47 256.813 1531.6 Q256.813 1538.71 258.619 1542.27 Q260.447 1545.82 264.058 1545.82 Q267.693 1545.82 269.498 1542.27 Q271.327 1538.71 271.327 1531.6 Q271.327 1524.47 269.498 1520.93 Q267.693 1517.37 264.058 1517.37 M264.058 1513.66 Q269.869 1513.66 272.924 1518.27 Q276.003 1522.85 276.003 1531.6 Q276.003 1540.33 272.924 1544.94 Q269.869 1549.52 264.058 1549.52 Q258.248 1549.52 255.17 1544.94 Q252.114 1540.33 252.114 1531.6 Q252.114 1522.85 255.17 1518.27 Q258.248 1513.66 264.058 1513.66 Z\" fill=\"#000000\" fill-rule=\"evenodd\" fill-opacity=\"1\" /><path clip-path=\"url(#clip150)\" d=\"M750.442 1544.91 L766.762 1544.91 L766.762 1548.85 L744.817 1548.85 L744.817 1544.91 Q747.48 1542.16 752.063 1537.53 Q756.669 1532.88 757.85 1531.53 Q760.095 1529.01 760.975 1527.27 Q761.878 1525.51 761.878 1523.82 Q761.878 1521.07 759.933 1519.33 Q758.012 1517.6 754.91 1517.6 Q752.711 1517.6 750.257 1518.36 Q747.827 1519.13 745.049 1520.68 L745.049 1515.95 Q747.873 1514.82 750.327 1514.24 Q752.78 1513.66 754.817 1513.66 Q760.188 1513.66 763.382 1516.35 Q766.577 1519.03 766.577 1523.52 Q766.577 1525.65 765.766 1527.57 Q764.979 1529.47 762.873 1532.07 Q762.294 1532.74 759.192 1535.95 Q756.091 1539.15 750.442 1544.91 Z\" fill=\"#000000\" fill-rule=\"evenodd\" fill-opacity=\"1\" /><path clip-path=\"url(#clip150)\" d=\"M776.623 1514.29 L794.979 1514.29 L794.979 1518.22 L780.905 1518.22 L780.905 1526.7 Q781.924 1526.35 782.942 1526.19 Q783.961 1526 784.979 1526 Q790.766 1526 794.146 1529.17 Q797.526 1532.34 797.526 1537.76 Q797.526 1543.34 794.053 1546.44 Q790.581 1549.52 784.262 1549.52 Q782.086 1549.52 779.817 1549.15 Q777.572 1548.78 775.165 1548.04 L775.165 1543.34 Q777.248 1544.47 779.47 1545.03 Q781.692 1545.58 784.169 1545.58 Q788.174 1545.58 790.512 1543.48 Q792.85 1541.37 792.85 1537.76 Q792.85 1534.15 790.512 1532.04 Q788.174 1529.94 784.169 1529.94 Q782.294 1529.94 780.419 1530.35 Q778.567 1530.77 776.623 1531.65 L776.623 1514.29 Z\" fill=\"#000000\" fill-rule=\"evenodd\" fill-opacity=\"1\" /><path clip-path=\"url(#clip150)\" d=\"M1252.98 1514.29 L1271.34 1514.29 L1271.34 1518.22 L1257.27 1518.22 L1257.27 1526.7 Q1258.28 1526.35 1259.3 1526.19 Q1260.32 1526 1261.34 1526 Q1267.13 1526 1270.51 1529.17 Q1273.89 1532.34 1273.89 1537.76 Q1273.89 1543.34 1270.41 1546.44 Q1266.94 1549.52 1260.62 1549.52 Q1258.45 1549.52 1256.18 1549.15 Q1253.93 1548.78 1251.53 1548.04 L1251.53 1543.34 Q1253.61 1544.47 1255.83 1545.03 Q1258.05 1545.58 1260.53 1545.58 Q1264.53 1545.58 1266.87 1543.48 Q1269.21 1541.37 1269.21 1537.76 Q1269.21 1534.15 1266.87 1532.04 Q1264.53 1529.94 1260.53 1529.94 Q1258.66 1529.94 1256.78 1530.35 Q1254.93 1530.77 1252.98 1531.65 L1252.98 1514.29 Z\" fill=\"#000000\" fill-rule=\"evenodd\" fill-opacity=\"1\" /><path clip-path=\"url(#clip150)\" d=\"M1293.1 1517.37 Q1289.49 1517.37 1287.66 1520.93 Q1285.85 1524.47 1285.85 1531.6 Q1285.85 1538.71 1287.66 1542.27 Q1289.49 1545.82 1293.1 1545.82 Q1296.73 1545.82 1298.54 1542.27 Q1300.37 1538.71 1300.37 1531.6 Q1300.37 1524.47 1298.54 1520.93 Q1296.73 1517.37 1293.1 1517.37 M1293.1 1513.66 Q1298.91 1513.66 1301.97 1518.27 Q1305.04 1522.85 1305.04 1531.6 Q1305.04 1540.33 1301.97 1544.94 Q1298.91 1549.52 1293.1 1549.52 Q1287.29 1549.52 1284.21 1544.94 Q1281.15 1540.33 1281.15 1531.6 Q1281.15 1522.85 1284.21 1518.27 Q1287.29 1513.66 1293.1 1513.66 Z\" fill=\"#000000\" fill-rule=\"evenodd\" fill-opacity=\"1\" /><path clip-path=\"url(#clip150)\" d=\"M1759.25 1514.29 L1781.47 1514.29 L1781.47 1516.28 L1768.93 1548.85 L1764.04 1548.85 L1775.85 1518.22 L1759.25 1518.22 L1759.25 1514.29 Z\" fill=\"#000000\" fill-rule=\"evenodd\" fill-opacity=\"1\" /><path clip-path=\"url(#clip150)\" d=\"M1790.64 1514.29 L1809 1514.29 L1809 1518.22 L1794.92 1518.22 L1794.92 1526.7 Q1795.94 1526.35 1796.96 1526.19 Q1797.98 1526 1799 1526 Q1804.78 1526 1808.16 1529.17 Q1811.54 1532.34 1811.54 1537.76 Q1811.54 1543.34 1808.07 1546.44 Q1804.6 1549.52 1798.28 1549.52 Q1796.1 1549.52 1793.84 1549.15 Q1791.59 1548.78 1789.18 1548.04 L1789.18 1543.34 Q1791.27 1544.47 1793.49 1545.03 Q1795.71 1545.58 1798.19 1545.58 Q1802.19 1545.58 1804.53 1543.48 Q1806.87 1541.37 1806.87 1537.76 Q1806.87 1534.15 1804.53 1532.04 Q1802.19 1529.94 1798.19 1529.94 Q1796.31 1529.94 1794.44 1530.35 Q1792.59 1530.77 1790.64 1531.65 L1790.64 1514.29 Z\" fill=\"#000000\" fill-rule=\"evenodd\" fill-opacity=\"1\" /><path clip-path=\"url(#clip150)\" d=\"M2252.12 1544.91 L2259.76 1544.91 L2259.76 1518.55 L2251.45 1520.21 L2251.45 1515.95 L2259.71 1514.29 L2264.39 1514.29 L2264.39 1544.91 L2272.02 1544.91 L2272.02 1548.85 L2252.12 1548.85 L2252.12 1544.91 Z\" fill=\"#000000\" fill-rule=\"evenodd\" fill-opacity=\"1\" /><path clip-path=\"url(#clip150)\" d=\"M2291.47 1517.37 Q2287.86 1517.37 2286.03 1520.93 Q2284.22 1524.47 2284.22 1531.6 Q2284.22 1538.71 2286.03 1542.27 Q2287.86 1545.82 2291.47 1545.82 Q2295.1 1545.82 2296.91 1542.27 Q2298.74 1538.71 2298.74 1531.6 Q2298.74 1524.47 2296.91 1520.93 Q2295.1 1517.37 2291.47 1517.37 M2291.47 1513.66 Q2297.28 1513.66 2300.33 1518.27 Q2303.41 1522.85 2303.41 1531.6 Q2303.41 1540.33 2300.33 1544.94 Q2297.28 1549.52 2291.47 1549.52 Q2285.66 1549.52 2282.58 1544.94 Q2279.52 1540.33 2279.52 1531.6 Q2279.52 1522.85 2282.58 1518.27 Q2285.66 1513.66 2291.47 1513.66 Z\" fill=\"#000000\" fill-rule=\"evenodd\" fill-opacity=\"1\" /><path clip-path=\"url(#clip150)\" d=\"M2321.63 1517.37 Q2318.02 1517.37 2316.19 1520.93 Q2314.39 1524.47 2314.39 1531.6 Q2314.39 1538.71 2316.19 1542.27 Q2318.02 1545.82 2321.63 1545.82 Q2325.27 1545.82 2327.07 1542.27 Q2328.9 1538.71 2328.9 1531.6 Q2328.9 1524.47 2327.07 1520.93 Q2325.27 1517.37 2321.63 1517.37 M2321.63 1513.66 Q2327.44 1513.66 2330.5 1518.27 Q2333.58 1522.85 2333.58 1531.6 Q2333.58 1540.33 2330.5 1544.94 Q2327.44 1549.52 2321.63 1549.52 Q2315.82 1549.52 2312.74 1544.94 Q2309.69 1540.33 2309.69 1531.6 Q2309.69 1522.85 2312.74 1518.27 Q2315.82 1513.66 2321.63 1513.66 Z\" fill=\"#000000\" fill-rule=\"evenodd\" fill-opacity=\"1\" /><polyline clip-path=\"url(#clip152)\" style=\"stroke:#000000; stroke-linecap:butt; stroke-linejoin:round; stroke-width:2; stroke-opacity:0.1; fill:none\" points=\"\n",
       "  224.098,1338.49 2352.76,1338.49 \n",
       "  \"/>\n",
       "<polyline clip-path=\"url(#clip152)\" style=\"stroke:#000000; stroke-linecap:butt; stroke-linejoin:round; stroke-width:2; stroke-opacity:0.1; fill:none\" points=\"\n",
       "  224.098,1147.94 2352.76,1147.94 \n",
       "  \"/>\n",
       "<polyline clip-path=\"url(#clip152)\" style=\"stroke:#000000; stroke-linecap:butt; stroke-linejoin:round; stroke-width:2; stroke-opacity:0.1; fill:none\" points=\"\n",
       "  224.098,957.395 2352.76,957.395 \n",
       "  \"/>\n",
       "<polyline clip-path=\"url(#clip152)\" style=\"stroke:#000000; stroke-linecap:butt; stroke-linejoin:round; stroke-width:2; stroke-opacity:0.1; fill:none\" points=\"\n",
       "  224.098,766.846 2352.76,766.846 \n",
       "  \"/>\n",
       "<polyline clip-path=\"url(#clip152)\" style=\"stroke:#000000; stroke-linecap:butt; stroke-linejoin:round; stroke-width:2; stroke-opacity:0.1; fill:none\" points=\"\n",
       "  224.098,576.298 2352.76,576.298 \n",
       "  \"/>\n",
       "<polyline clip-path=\"url(#clip152)\" style=\"stroke:#000000; stroke-linecap:butt; stroke-linejoin:round; stroke-width:2; stroke-opacity:0.1; fill:none\" points=\"\n",
       "  224.098,385.75 2352.76,385.75 \n",
       "  \"/>\n",
       "<polyline clip-path=\"url(#clip152)\" style=\"stroke:#000000; stroke-linecap:butt; stroke-linejoin:round; stroke-width:2; stroke-opacity:0.1; fill:none\" points=\"\n",
       "  224.098,195.201 2352.76,195.201 \n",
       "  \"/>\n",
       "<polyline clip-path=\"url(#clip150)\" style=\"stroke:#000000; stroke-linecap:butt; stroke-linejoin:round; stroke-width:4; stroke-opacity:1; fill:none\" points=\"\n",
       "  224.098,1486.45 224.098,47.2441 \n",
       "  \"/>\n",
       "<polyline clip-path=\"url(#clip150)\" style=\"stroke:#000000; stroke-linecap:butt; stroke-linejoin:round; stroke-width:4; stroke-opacity:1; fill:none\" points=\"\n",
       "  224.098,1338.49 242.996,1338.49 \n",
       "  \"/>\n",
       "<polyline clip-path=\"url(#clip150)\" style=\"stroke:#000000; stroke-linecap:butt; stroke-linejoin:round; stroke-width:4; stroke-opacity:1; fill:none\" points=\"\n",
       "  224.098,1147.94 242.996,1147.94 \n",
       "  \"/>\n",
       "<polyline clip-path=\"url(#clip150)\" style=\"stroke:#000000; stroke-linecap:butt; stroke-linejoin:round; stroke-width:4; stroke-opacity:1; fill:none\" points=\"\n",
       "  224.098,957.395 242.996,957.395 \n",
       "  \"/>\n",
       "<polyline clip-path=\"url(#clip150)\" style=\"stroke:#000000; stroke-linecap:butt; stroke-linejoin:round; stroke-width:4; stroke-opacity:1; fill:none\" points=\"\n",
       "  224.098,766.846 242.996,766.846 \n",
       "  \"/>\n",
       "<polyline clip-path=\"url(#clip150)\" style=\"stroke:#000000; stroke-linecap:butt; stroke-linejoin:round; stroke-width:4; stroke-opacity:1; fill:none\" points=\"\n",
       "  224.098,576.298 242.996,576.298 \n",
       "  \"/>\n",
       "<polyline clip-path=\"url(#clip150)\" style=\"stroke:#000000; stroke-linecap:butt; stroke-linejoin:round; stroke-width:4; stroke-opacity:1; fill:none\" points=\"\n",
       "  224.098,385.75 242.996,385.75 \n",
       "  \"/>\n",
       "<polyline clip-path=\"url(#clip150)\" style=\"stroke:#000000; stroke-linecap:butt; stroke-linejoin:round; stroke-width:4; stroke-opacity:1; fill:none\" points=\"\n",
       "  224.098,195.201 242.996,195.201 \n",
       "  \"/>\n",
       "<path clip-path=\"url(#clip150)\" d=\"M51.9875 1338.94 L81.6633 1338.94 L81.6633 1342.88 L51.9875 1342.88 L51.9875 1338.94 Z\" fill=\"#000000\" fill-rule=\"evenodd\" fill-opacity=\"1\" /><path clip-path=\"url(#clip150)\" d=\"M101.756 1324.29 Q98.1447 1324.29 96.316 1327.85 Q94.5104 1331.4 94.5104 1338.53 Q94.5104 1345.63 96.316 1349.2 Q98.1447 1352.74 101.756 1352.74 Q105.39 1352.74 107.196 1349.2 Q109.024 1345.63 109.024 1338.53 Q109.024 1331.4 107.196 1327.85 Q105.39 1324.29 101.756 1324.29 M101.756 1320.59 Q107.566 1320.59 110.621 1325.19 Q113.7 1329.78 113.7 1338.53 Q113.7 1347.25 110.621 1351.86 Q107.566 1356.44 101.756 1356.44 Q95.9456 1356.44 92.8669 1351.86 Q89.8114 1347.25 89.8114 1338.53 Q89.8114 1329.78 92.8669 1325.19 Q95.9456 1320.59 101.756 1320.59 Z\" fill=\"#000000\" fill-rule=\"evenodd\" fill-opacity=\"1\" /><path clip-path=\"url(#clip150)\" d=\"M121.918 1349.89 L126.802 1349.89 L126.802 1355.77 L121.918 1355.77 L121.918 1349.89 Z\" fill=\"#000000\" fill-rule=\"evenodd\" fill-opacity=\"1\" /><path clip-path=\"url(#clip150)\" d=\"M137.797 1351.84 L145.436 1351.84 L145.436 1325.47 L137.126 1327.14 L137.126 1322.88 L145.39 1321.21 L150.066 1321.21 L150.066 1351.84 L157.705 1351.84 L157.705 1355.77 L137.797 1355.77 L137.797 1351.84 Z\" fill=\"#000000\" fill-rule=\"evenodd\" fill-opacity=\"1\" /><path clip-path=\"url(#clip150)\" d=\"M167.195 1321.21 L185.552 1321.21 L185.552 1325.15 L171.478 1325.15 L171.478 1333.62 Q172.496 1333.27 173.515 1333.11 Q174.533 1332.92 175.552 1332.92 Q181.339 1332.92 184.718 1336.1 Q188.098 1339.27 188.098 1344.68 Q188.098 1350.26 184.626 1353.36 Q181.153 1356.44 174.834 1356.44 Q172.658 1356.44 170.39 1356.07 Q168.144 1355.7 165.737 1354.96 L165.737 1350.26 Q167.82 1351.4 170.042 1351.95 Q172.265 1352.51 174.741 1352.51 Q178.746 1352.51 181.084 1350.4 Q183.422 1348.29 183.422 1344.68 Q183.422 1341.07 181.084 1338.97 Q178.746 1336.86 174.741 1336.86 Q172.866 1336.86 170.991 1337.28 Q169.14 1337.69 167.195 1338.57 L167.195 1321.21 Z\" fill=\"#000000\" fill-rule=\"evenodd\" fill-opacity=\"1\" /><path clip-path=\"url(#clip150)\" d=\"M50.9921 1148.39 L80.6679 1148.39 L80.6679 1152.33 L50.9921 1152.33 L50.9921 1148.39 Z\" fill=\"#000000\" fill-rule=\"evenodd\" fill-opacity=\"1\" /><path clip-path=\"url(#clip150)\" d=\"M100.76 1133.74 Q97.1493 1133.74 95.3206 1137.31 Q93.515 1140.85 93.515 1147.98 Q93.515 1155.08 95.3206 1158.65 Q97.1493 1162.19 100.76 1162.19 Q104.395 1162.19 106.2 1158.65 Q108.029 1155.08 108.029 1147.98 Q108.029 1140.85 106.2 1137.31 Q104.395 1133.74 100.76 1133.74 M100.76 1130.04 Q106.571 1130.04 109.626 1134.64 Q112.705 1139.23 112.705 1147.98 Q112.705 1156.7 109.626 1161.31 Q106.571 1165.89 100.76 1165.89 Q94.9502 1165.89 91.8715 1161.31 Q88.816 1156.7 88.816 1147.98 Q88.816 1139.23 91.8715 1134.64 Q94.9502 1130.04 100.76 1130.04 Z\" fill=\"#000000\" fill-rule=\"evenodd\" fill-opacity=\"1\" /><path clip-path=\"url(#clip150)\" d=\"M120.922 1159.34 L125.807 1159.34 L125.807 1165.22 L120.922 1165.22 L120.922 1159.34 Z\" fill=\"#000000\" fill-rule=\"evenodd\" fill-opacity=\"1\" /><path clip-path=\"url(#clip150)\" d=\"M136.802 1161.29 L144.441 1161.29 L144.441 1134.92 L136.131 1136.59 L136.131 1132.33 L144.394 1130.66 L149.07 1130.66 L149.07 1161.29 L156.709 1161.29 L156.709 1165.22 L136.802 1165.22 L136.802 1161.29 Z\" fill=\"#000000\" fill-rule=\"evenodd\" fill-opacity=\"1\" /><path clip-path=\"url(#clip150)\" d=\"M176.153 1133.74 Q172.542 1133.74 170.714 1137.31 Q168.908 1140.85 168.908 1147.98 Q168.908 1155.08 170.714 1158.65 Q172.542 1162.19 176.153 1162.19 Q179.788 1162.19 181.593 1158.65 Q183.422 1155.08 183.422 1147.98 Q183.422 1140.85 181.593 1137.31 Q179.788 1133.74 176.153 1133.74 M176.153 1130.04 Q181.964 1130.04 185.019 1134.64 Q188.098 1139.23 188.098 1147.98 Q188.098 1156.7 185.019 1161.31 Q181.964 1165.89 176.153 1165.89 Q170.343 1165.89 167.265 1161.31 Q164.209 1156.7 164.209 1147.98 Q164.209 1139.23 167.265 1134.64 Q170.343 1130.04 176.153 1130.04 Z\" fill=\"#000000\" fill-rule=\"evenodd\" fill-opacity=\"1\" /><path clip-path=\"url(#clip150)\" d=\"M51.9875 957.846 L81.6633 957.846 L81.6633 961.781 L51.9875 961.781 L51.9875 957.846 Z\" fill=\"#000000\" fill-rule=\"evenodd\" fill-opacity=\"1\" /><path clip-path=\"url(#clip150)\" d=\"M101.756 943.193 Q98.1447 943.193 96.316 946.758 Q94.5104 950.3 94.5104 957.429 Q94.5104 964.536 96.316 968.101 Q98.1447 971.642 101.756 971.642 Q105.39 971.642 107.196 968.101 Q109.024 964.536 109.024 957.429 Q109.024 950.3 107.196 946.758 Q105.39 943.193 101.756 943.193 M101.756 939.49 Q107.566 939.49 110.621 944.096 Q113.7 948.679 113.7 957.429 Q113.7 966.156 110.621 970.763 Q107.566 975.346 101.756 975.346 Q95.9456 975.346 92.8669 970.763 Q89.8114 966.156 89.8114 957.429 Q89.8114 948.679 92.8669 944.096 Q95.9456 939.49 101.756 939.49 Z\" fill=\"#000000\" fill-rule=\"evenodd\" fill-opacity=\"1\" /><path clip-path=\"url(#clip150)\" d=\"M121.918 968.795 L126.802 968.795 L126.802 974.675 L121.918 974.675 L121.918 968.795 Z\" fill=\"#000000\" fill-rule=\"evenodd\" fill-opacity=\"1\" /><path clip-path=\"url(#clip150)\" d=\"M146.987 943.193 Q143.376 943.193 141.547 946.758 Q139.742 950.3 139.742 957.429 Q139.742 964.536 141.547 968.101 Q143.376 971.642 146.987 971.642 Q150.621 971.642 152.427 968.101 Q154.255 964.536 154.255 957.429 Q154.255 950.3 152.427 946.758 Q150.621 943.193 146.987 943.193 M146.987 939.49 Q152.797 939.49 155.853 944.096 Q158.931 948.679 158.931 957.429 Q158.931 966.156 155.853 970.763 Q152.797 975.346 146.987 975.346 Q141.177 975.346 138.098 970.763 Q135.043 966.156 135.043 957.429 Q135.043 948.679 138.098 944.096 Q141.177 939.49 146.987 939.49 Z\" fill=\"#000000\" fill-rule=\"evenodd\" fill-opacity=\"1\" /><path clip-path=\"url(#clip150)\" d=\"M167.195 940.115 L185.552 940.115 L185.552 944.05 L171.478 944.05 L171.478 952.522 Q172.496 952.175 173.515 952.013 Q174.533 951.827 175.552 951.827 Q181.339 951.827 184.718 954.999 Q188.098 958.17 188.098 963.587 Q188.098 969.165 184.626 972.267 Q181.153 975.346 174.834 975.346 Q172.658 975.346 170.39 974.976 Q168.144 974.605 165.737 973.864 L165.737 969.165 Q167.82 970.3 170.042 970.855 Q172.265 971.411 174.741 971.411 Q178.746 971.411 181.084 969.304 Q183.422 967.198 183.422 963.587 Q183.422 959.976 181.084 957.869 Q178.746 955.763 174.741 955.763 Q172.866 955.763 170.991 956.179 Q169.14 956.596 167.195 957.476 L167.195 940.115 Z\" fill=\"#000000\" fill-rule=\"evenodd\" fill-opacity=\"1\" /><path clip-path=\"url(#clip150)\" d=\"M100.76 752.645 Q97.1493 752.645 95.3206 756.21 Q93.515 759.751 93.515 766.881 Q93.515 773.987 95.3206 777.552 Q97.1493 781.094 100.76 781.094 Q104.395 781.094 106.2 777.552 Q108.029 773.987 108.029 766.881 Q108.029 759.751 106.2 756.21 Q104.395 752.645 100.76 752.645 M100.76 748.941 Q106.571 748.941 109.626 753.548 Q112.705 758.131 112.705 766.881 Q112.705 775.608 109.626 780.214 Q106.571 784.798 100.76 784.798 Q94.9502 784.798 91.8715 780.214 Q88.816 775.608 88.816 766.881 Q88.816 758.131 91.8715 753.548 Q94.9502 748.941 100.76 748.941 Z\" fill=\"#000000\" fill-rule=\"evenodd\" fill-opacity=\"1\" /><path clip-path=\"url(#clip150)\" d=\"M120.922 778.247 L125.807 778.247 L125.807 784.126 L120.922 784.126 L120.922 778.247 Z\" fill=\"#000000\" fill-rule=\"evenodd\" fill-opacity=\"1\" /><path clip-path=\"url(#clip150)\" d=\"M145.992 752.645 Q142.381 752.645 140.552 756.21 Q138.746 759.751 138.746 766.881 Q138.746 773.987 140.552 777.552 Q142.381 781.094 145.992 781.094 Q149.626 781.094 151.431 777.552 Q153.26 773.987 153.26 766.881 Q153.26 759.751 151.431 756.21 Q149.626 752.645 145.992 752.645 M145.992 748.941 Q151.802 748.941 154.857 753.548 Q157.936 758.131 157.936 766.881 Q157.936 775.608 154.857 780.214 Q151.802 784.798 145.992 784.798 Q140.181 784.798 137.103 780.214 Q134.047 775.608 134.047 766.881 Q134.047 758.131 137.103 753.548 Q140.181 748.941 145.992 748.941 Z\" fill=\"#000000\" fill-rule=\"evenodd\" fill-opacity=\"1\" /><path clip-path=\"url(#clip150)\" d=\"M176.153 752.645 Q172.542 752.645 170.714 756.21 Q168.908 759.751 168.908 766.881 Q168.908 773.987 170.714 777.552 Q172.542 781.094 176.153 781.094 Q179.788 781.094 181.593 777.552 Q183.422 773.987 183.422 766.881 Q183.422 759.751 181.593 756.21 Q179.788 752.645 176.153 752.645 M176.153 748.941 Q181.964 748.941 185.019 753.548 Q188.098 758.131 188.098 766.881 Q188.098 775.608 185.019 780.214 Q181.964 784.798 176.153 784.798 Q170.343 784.798 167.265 780.214 Q164.209 775.608 164.209 766.881 Q164.209 758.131 167.265 753.548 Q170.343 748.941 176.153 748.941 Z\" fill=\"#000000\" fill-rule=\"evenodd\" fill-opacity=\"1\" /><path clip-path=\"url(#clip150)\" d=\"M101.756 562.097 Q98.1447 562.097 96.316 565.661 Q94.5104 569.203 94.5104 576.333 Q94.5104 583.439 96.316 587.004 Q98.1447 590.546 101.756 590.546 Q105.39 590.546 107.196 587.004 Q109.024 583.439 109.024 576.333 Q109.024 569.203 107.196 565.661 Q105.39 562.097 101.756 562.097 M101.756 558.393 Q107.566 558.393 110.621 562.999 Q113.7 567.583 113.7 576.333 Q113.7 585.059 110.621 589.666 Q107.566 594.249 101.756 594.249 Q95.9456 594.249 92.8669 589.666 Q89.8114 585.059 89.8114 576.333 Q89.8114 567.583 92.8669 562.999 Q95.9456 558.393 101.756 558.393 Z\" fill=\"#000000\" fill-rule=\"evenodd\" fill-opacity=\"1\" /><path clip-path=\"url(#clip150)\" d=\"M121.918 587.698 L126.802 587.698 L126.802 593.578 L121.918 593.578 L121.918 587.698 Z\" fill=\"#000000\" fill-rule=\"evenodd\" fill-opacity=\"1\" /><path clip-path=\"url(#clip150)\" d=\"M146.987 562.097 Q143.376 562.097 141.547 565.661 Q139.742 569.203 139.742 576.333 Q139.742 583.439 141.547 587.004 Q143.376 590.546 146.987 590.546 Q150.621 590.546 152.427 587.004 Q154.255 583.439 154.255 576.333 Q154.255 569.203 152.427 565.661 Q150.621 562.097 146.987 562.097 M146.987 558.393 Q152.797 558.393 155.853 562.999 Q158.931 567.583 158.931 576.333 Q158.931 585.059 155.853 589.666 Q152.797 594.249 146.987 594.249 Q141.177 594.249 138.098 589.666 Q135.043 585.059 135.043 576.333 Q135.043 567.583 138.098 562.999 Q141.177 558.393 146.987 558.393 Z\" fill=\"#000000\" fill-rule=\"evenodd\" fill-opacity=\"1\" /><path clip-path=\"url(#clip150)\" d=\"M167.195 559.018 L185.552 559.018 L185.552 562.953 L171.478 562.953 L171.478 571.425 Q172.496 571.078 173.515 570.916 Q174.533 570.731 175.552 570.731 Q181.339 570.731 184.718 573.902 Q188.098 577.073 188.098 582.49 Q188.098 588.069 184.626 591.171 Q181.153 594.249 174.834 594.249 Q172.658 594.249 170.39 593.879 Q168.144 593.509 165.737 592.768 L165.737 588.069 Q167.82 589.203 170.042 589.759 Q172.265 590.314 174.741 590.314 Q178.746 590.314 181.084 588.208 Q183.422 586.101 183.422 582.49 Q183.422 578.879 181.084 576.772 Q178.746 574.666 174.741 574.666 Q172.866 574.666 170.991 575.083 Q169.14 575.499 167.195 576.379 L167.195 559.018 Z\" fill=\"#000000\" fill-rule=\"evenodd\" fill-opacity=\"1\" /><path clip-path=\"url(#clip150)\" d=\"M100.76 371.548 Q97.1493 371.548 95.3206 375.113 Q93.515 378.655 93.515 385.784 Q93.515 392.891 95.3206 396.456 Q97.1493 399.997 100.76 399.997 Q104.395 399.997 106.2 396.456 Q108.029 392.891 108.029 385.784 Q108.029 378.655 106.2 375.113 Q104.395 371.548 100.76 371.548 M100.76 367.845 Q106.571 367.845 109.626 372.451 Q112.705 377.034 112.705 385.784 Q112.705 394.511 109.626 399.118 Q106.571 403.701 100.76 403.701 Q94.9502 403.701 91.8715 399.118 Q88.816 394.511 88.816 385.784 Q88.816 377.034 91.8715 372.451 Q94.9502 367.845 100.76 367.845 Z\" fill=\"#000000\" fill-rule=\"evenodd\" fill-opacity=\"1\" /><path clip-path=\"url(#clip150)\" d=\"M120.922 397.15 L125.807 397.15 L125.807 403.03 L120.922 403.03 L120.922 397.15 Z\" fill=\"#000000\" fill-rule=\"evenodd\" fill-opacity=\"1\" /><path clip-path=\"url(#clip150)\" d=\"M136.802 399.094 L144.441 399.094 L144.441 372.729 L136.131 374.396 L136.131 370.136 L144.394 368.47 L149.07 368.47 L149.07 399.094 L156.709 399.094 L156.709 403.03 L136.802 403.03 L136.802 399.094 Z\" fill=\"#000000\" fill-rule=\"evenodd\" fill-opacity=\"1\" /><path clip-path=\"url(#clip150)\" d=\"M176.153 371.548 Q172.542 371.548 170.714 375.113 Q168.908 378.655 168.908 385.784 Q168.908 392.891 170.714 396.456 Q172.542 399.997 176.153 399.997 Q179.788 399.997 181.593 396.456 Q183.422 392.891 183.422 385.784 Q183.422 378.655 181.593 375.113 Q179.788 371.548 176.153 371.548 M176.153 367.845 Q181.964 367.845 185.019 372.451 Q188.098 377.034 188.098 385.784 Q188.098 394.511 185.019 399.118 Q181.964 403.701 176.153 403.701 Q170.343 403.701 167.265 399.118 Q164.209 394.511 164.209 385.784 Q164.209 377.034 167.265 372.451 Q170.343 367.845 176.153 367.845 Z\" fill=\"#000000\" fill-rule=\"evenodd\" fill-opacity=\"1\" /><path clip-path=\"url(#clip150)\" d=\"M101.756 181 Q98.1447 181 96.316 184.565 Q94.5104 188.106 94.5104 195.236 Q94.5104 202.342 96.316 205.907 Q98.1447 209.449 101.756 209.449 Q105.39 209.449 107.196 205.907 Q109.024 202.342 109.024 195.236 Q109.024 188.106 107.196 184.565 Q105.39 181 101.756 181 M101.756 177.296 Q107.566 177.296 110.621 181.903 Q113.7 186.486 113.7 195.236 Q113.7 203.963 110.621 208.569 Q107.566 213.153 101.756 213.153 Q95.9456 213.153 92.8669 208.569 Q89.8114 203.963 89.8114 195.236 Q89.8114 186.486 92.8669 181.903 Q95.9456 177.296 101.756 177.296 Z\" fill=\"#000000\" fill-rule=\"evenodd\" fill-opacity=\"1\" /><path clip-path=\"url(#clip150)\" d=\"M121.918 206.602 L126.802 206.602 L126.802 212.481 L121.918 212.481 L121.918 206.602 Z\" fill=\"#000000\" fill-rule=\"evenodd\" fill-opacity=\"1\" /><path clip-path=\"url(#clip150)\" d=\"M137.797 208.546 L145.436 208.546 L145.436 182.181 L137.126 183.847 L137.126 179.588 L145.39 177.921 L150.066 177.921 L150.066 208.546 L157.705 208.546 L157.705 212.481 L137.797 212.481 L137.797 208.546 Z\" fill=\"#000000\" fill-rule=\"evenodd\" fill-opacity=\"1\" /><path clip-path=\"url(#clip150)\" d=\"M167.195 177.921 L185.552 177.921 L185.552 181.856 L171.478 181.856 L171.478 190.329 Q172.496 189.981 173.515 189.819 Q174.533 189.634 175.552 189.634 Q181.339 189.634 184.718 192.805 Q188.098 195.977 188.098 201.393 Q188.098 206.972 184.626 210.074 Q181.153 213.153 174.834 213.153 Q172.658 213.153 170.39 212.782 Q168.144 212.412 165.737 211.671 L165.737 206.972 Q167.82 208.106 170.042 208.662 Q172.265 209.217 174.741 209.217 Q178.746 209.217 181.084 207.111 Q183.422 205.004 183.422 201.393 Q183.422 197.782 181.084 195.676 Q178.746 193.569 174.741 193.569 Q172.866 193.569 170.991 193.986 Q169.14 194.403 167.195 195.282 L167.195 177.921 Z\" fill=\"#000000\" fill-rule=\"evenodd\" fill-opacity=\"1\" /><polyline clip-path=\"url(#clip152)\" style=\"stroke:#009af9; stroke-linecap:butt; stroke-linejoin:round; stroke-width:4; stroke-opacity:1; fill:none\" points=\"\n",
       "  284.343,821.844 304.627,661.306 324.912,914.378 345.196,589.274 365.481,960.072 385.766,573.62 406.05,944.418 426.335,619.314 446.619,872.387 466.904,711.848 \n",
       "  487.188,661.306 507.473,969.377 527.757,483.734 548.042,1107.6 568.326,396.048 588.611,1137.64 608.895,426.088 629.18,1049.96 649.464,564.316 669.749,872.387 \n",
       "  690.033,914.379 710.318,483.734 730.602,1162.6 750.887,290.507 771.172,1285.18 791.456,248.516 811.741,1243.18 832.025,371.09 852.31,1049.96 872.594,619.314 \n",
       "  892.879,589.274 913.163,1107.6 933.448,290.507 953.732,1340.18 974.017,142.975 994.301,1390.72 1014.59,193.518 1034.87,1243.18 1055.15,426.088 1075.44,944.418 \n",
       "  1095.72,960.073 1116.01,396.047 1136.29,1285.18 1156.58,142.974 1176.86,1445.72 1197.15,87.9776 1217.43,1390.72 1237.72,248.516 1258,1137.64 1278.28,573.62 \n",
       "  1298.57,573.62 1318.85,1137.65 1339.14,248.514 1359.42,1390.72 1379.71,87.9763 1399.99,1445.72 1420.28,142.976 1440.56,1285.18 1460.85,396.049 1481.13,960.072 \n",
       "  1501.41,944.419 1521.7,426.086 1541.98,1243.19 1562.27,193.516 1582.55,1390.72 1602.84,142.975 1623.12,1340.18 1643.41,290.509 1663.69,1107.6 1683.98,589.274 \n",
       "  1704.26,619.313 1724.54,1049.96 1744.83,371.088 1765.11,1243.19 1785.4,248.514 1805.68,1285.18 1825.97,290.507 1846.25,1162.6 1866.54,483.735 1886.82,914.378 \n",
       "  1907.1,872.387 1927.39,564.315 1947.67,1049.96 1967.96,426.086 1988.24,1137.65 2008.53,396.047 2028.81,1107.61 2049.1,483.734 2069.38,969.376 2089.67,661.306 \n",
       "  2109.95,711.848 2130.23,872.387 2150.52,619.313 2170.8,944.419 2191.09,573.619 2211.37,960.073 2231.66,589.274 2251.94,914.378 2272.23,661.306 2292.51,821.844 \n",
       "  \n",
       "  \"/>\n",
       "<path clip-path=\"url(#clip150)\" d=\"\n",
       "M1992.85 198.898 L2281.8 198.898 L2281.8 95.2176 L1992.85 95.2176  Z\n",
       "  \" fill=\"#ffffff\" fill-rule=\"evenodd\" fill-opacity=\"1\"/>\n",
       "<polyline clip-path=\"url(#clip150)\" style=\"stroke:#000000; stroke-linecap:butt; stroke-linejoin:round; stroke-width:4; stroke-opacity:1; fill:none\" points=\"\n",
       "  1992.85,198.898 2281.8,198.898 2281.8,95.2176 1992.85,95.2176 1992.85,198.898 \n",
       "  \"/>\n",
       "<polyline clip-path=\"url(#clip150)\" style=\"stroke:#009af9; stroke-linecap:butt; stroke-linejoin:round; stroke-width:4; stroke-opacity:1; fill:none\" points=\"\n",
       "  2016.5,147.058 2158.42,147.058 \n",
       "  \"/>\n",
       "<path clip-path=\"url(#clip150)\" d=\"M2195.91 166.745 Q2194.1 171.375 2192.39 172.787 Q2190.68 174.199 2187.81 174.199 L2184.4 174.199 L2184.4 170.634 L2186.9 170.634 Q2188.66 170.634 2189.64 169.8 Q2190.61 168.967 2191.79 165.865 L2192.55 163.921 L2182.07 138.412 L2186.58 138.412 L2194.68 158.689 L2202.78 138.412 L2207.3 138.412 L2195.91 166.745 Z\" fill=\"#000000\" fill-rule=\"evenodd\" fill-opacity=\"1\" /><path clip-path=\"url(#clip150)\" d=\"M2214.59 160.402 L2222.23 160.402 L2222.23 134.037 L2213.92 135.703 L2213.92 131.444 L2222.18 129.778 L2226.86 129.778 L2226.86 160.402 L2234.5 160.402 L2234.5 164.338 L2214.59 164.338 L2214.59 160.402 Z\" fill=\"#000000\" fill-rule=\"evenodd\" fill-opacity=\"1\" /></svg>\n"
      ]
     },
     "metadata": {},
     "output_type": "display_data"
    }
   ],
   "source": [
    "using Plots\n",
    "plot(Vector(x))"
   ]
  },
  {
   "cell_type": "code",
   "execution_count": null,
   "metadata": {},
   "outputs": [],
   "source": [
    "# doc avec tests sur https://github.com/JuliaAttic/CUSOLVER.jl/blob/master/test/sparse.jl\n",
    "using CUDA\n",
    "using SparseArrays\n",
    "A = Symmetric(rand(10, 10));\n",
    "A_cuda = CUDA.CUSPARSE.CuSparseMatrixCSR{ComplexF64}(sparse(A))\n",
    "CUDA.CUSOLVER.heevd!('V','U', A_cuda)"
   ]
  },
  {
   "cell_type": "markdown",
   "metadata": {},
   "source": [
    "# Brouillon"
   ]
  },
  {
   "cell_type": "code",
   "execution_count": 5,
   "metadata": {},
   "outputs": [
    {
     "data": {
      "text/plain": [
       "ComplexF64 (alias for Complex{Float64})"
      ]
     },
     "metadata": {},
     "output_type": "display_data"
    }
   ],
   "source": [
    "typeof(CUDA.CUSOLVER.cu(6.5+8.3*im))"
   ]
  },
  {
   "cell_type": "code",
   "execution_count": 6,
   "metadata": {},
   "outputs": [
    {
     "data": {
      "text/plain": [
       "10×10 CUDA.CUSPARSE.CuSparseMatrixCSR{Float32, Int32} with 100 stored entries:\n",
       " 0.40146056  0.69666183  0.48392725  …  0.55610645   0.70135146  0.4424514\n",
       " 0.7824187   0.82393533  0.4817871      0.658985     0.36674246  0.35561138\n",
       " 0.80707985  0.30224553  0.38463345     0.030790616  0.44305095  0.77199596\n",
       " 0.7900074   0.3170761   0.96026766     0.62705296   0.39838463  0.70616513\n",
       " 0.72153026  0.4496554   0.94054854     0.5643194    0.35127285  0.3698378\n",
       " 0.20032066  0.33884728  0.5675699   …  0.46843728   0.6150995   0.5635175\n",
       " 0.09722471  0.52526915  0.12632577     0.06262363   0.28019646  0.55479527\n",
       " 0.36497658  0.89222765  0.8376817      0.5722178    0.63692886  0.74420166\n",
       " 0.64299124  0.67762375  0.754309       0.5833524    0.6662985   0.8861629\n",
       " 0.7415863   0.9853348   0.8992395      0.22196649   0.40297723  0.37753376"
      ]
     },
     "metadata": {},
     "output_type": "display_data"
    }
   ],
   "source": [
    "# générer une matrice creuse sur GPU \n",
    "using CUDA\n",
    "using SparseArrays\n",
    "A = rand(10,10)\n",
    "A = CUDA.cu(A)\n",
    "CUDA.CUSPARSE.CuSparseMatrixCSR(A);"
   ]
  },
  {
   "cell_type": "code",
   "execution_count": null,
   "metadata": {},
   "outputs": [],
   "source": [
    "# x = Symmetric(rand(5,5));\n",
    "# x = cu(x)\n",
    "# # x = CUDA.rand(5,5);\n",
    "# CUDA.CUSOLVER.sytrf!(x)\n",
    "\n",
    "# LinearAlgebra.LAPACK.sytrf!(M_pro_V) # https://docs.julialang.org/en/v1/stdlib/LinearAlgebra/"
   ]
  },
  {
   "cell_type": "code",
   "execution_count": 2,
   "metadata": {},
   "outputs": [
    {
     "data": {
      "text/plain": [
       "10-element CuArray{Float32, 1, CUDA.Mem.DeviceBuffer}:\n",
       "  -0.13119002\n",
       "  -3.4412055\n",
       " -15.038681\n",
       "   6.3824916\n",
       "  -0.31861752\n",
       "  18.327326\n",
       "   9.898261\n",
       "   1.0874577\n",
       "  -2.7439198\n",
       "  -6.874349"
      ]
     },
     "metadata": {},
     "output_type": "display_data"
    }
   ],
   "source": [
    "using CUDA, LinearAlgebra;\n",
    "A = CUDA.rand(10,10);\n",
    "B = CUDA.rand(10);\n",
    "\n",
    "D, ipiv = CUDA.CUSOLVER.getrf!(A);\n",
    "X = CUDA.CUSOLVER.getrs!('N', A, ipiv, B)"
   ]
  },
  {
   "cell_type": "code",
   "execution_count": 17,
   "metadata": {},
   "outputs": [
    {
     "data": {
      "text/plain": [
       "BenchmarkTools.Trial: 10000 samples with 1 evaluation.\n",
       " Range \u001b[90m(\u001b[39m\u001b[36m\u001b[1mmin\u001b[22m\u001b[39m … \u001b[35mmax\u001b[39m\u001b[90m):  \u001b[39m\u001b[36m\u001b[1m 92.500 μs\u001b[22m\u001b[39m … \u001b[35m 1.669 ms\u001b[39m  \u001b[90m┊\u001b[39m GC \u001b[90m(\u001b[39mmin … max\u001b[90m): \u001b[39m0.00% … 0.00%\n",
       " Time  \u001b[90m(\u001b[39m\u001b[34m\u001b[1mmedian\u001b[22m\u001b[39m\u001b[90m):     \u001b[39m\u001b[34m\u001b[1m 99.800 μs              \u001b[22m\u001b[39m\u001b[90m┊\u001b[39m GC \u001b[90m(\u001b[39mmedian\u001b[90m):    \u001b[39m0.00%\n",
       " Time  \u001b[90m(\u001b[39m\u001b[32m\u001b[1mmean\u001b[22m\u001b[39m ± \u001b[32mσ\u001b[39m\u001b[90m):   \u001b[39m\u001b[32m\u001b[1m108.808 μs\u001b[22m\u001b[39m ± \u001b[32m34.922 μs\u001b[39m  \u001b[90m┊\u001b[39m GC \u001b[90m(\u001b[39mmean ± σ\u001b[90m):  \u001b[39m0.00% ± 0.00%\n",
       "\n",
       "  \u001b[39m▄\u001b[39m█\u001b[39m█\u001b[39m█\u001b[34m▇\u001b[39m\u001b[39m▆\u001b[39m▆\u001b[39m▄\u001b[39m▄\u001b[32m▃\u001b[39m\u001b[39m▂\u001b[39m▂\u001b[39m▂\u001b[39m▃\u001b[39m▃\u001b[39m▂\u001b[39m▂\u001b[39m▂\u001b[39m▂\u001b[39m▂\u001b[39m▂\u001b[39m▁\u001b[39m▁\u001b[39m▁\u001b[39m▁\u001b[39m▁\u001b[39m▁\u001b[39m \u001b[39m \u001b[39m \u001b[39m \u001b[39m \u001b[39m \u001b[39m \u001b[39m \u001b[39m \u001b[39m \u001b[39m \u001b[39m \u001b[39m \u001b[39m \u001b[39m \u001b[39m \u001b[39m \u001b[39m \u001b[39m \u001b[39m \u001b[39m \u001b[39m \u001b[39m \u001b[39m \u001b[39m \u001b[39m \u001b[39m \u001b[39m \u001b[39m \u001b[39m \u001b[39m \u001b[39m \u001b[39m \u001b[39m \u001b[39m▂\n",
       "  \u001b[39m█\u001b[39m█\u001b[39m█\u001b[39m█\u001b[34m█\u001b[39m\u001b[39m█\u001b[39m█\u001b[39m█\u001b[39m█\u001b[32m█\u001b[39m\u001b[39m█\u001b[39m█\u001b[39m█\u001b[39m█\u001b[39m█\u001b[39m█\u001b[39m█\u001b[39m█\u001b[39m█\u001b[39m█\u001b[39m█\u001b[39m█\u001b[39m█\u001b[39m█\u001b[39m█\u001b[39m█\u001b[39m█\u001b[39m█\u001b[39m█\u001b[39m█\u001b[39m█\u001b[39m█\u001b[39m█\u001b[39m█\u001b[39m█\u001b[39m▇\u001b[39m▇\u001b[39m▇\u001b[39m▇\u001b[39m▆\u001b[39m▇\u001b[39m▆\u001b[39m▆\u001b[39m▆\u001b[39m▆\u001b[39m▆\u001b[39m▃\u001b[39m▆\u001b[39m▆\u001b[39m▇\u001b[39m▅\u001b[39m▆\u001b[39m▆\u001b[39m▆\u001b[39m▅\u001b[39m▅\u001b[39m▅\u001b[39m▄\u001b[39m▄\u001b[39m▅\u001b[39m \u001b[39m█\n",
       "  92.5 μs\u001b[90m       \u001b[39m\u001b[90mHistogram: \u001b[39m\u001b[90m\u001b[1mlog(\u001b[22m\u001b[39m\u001b[90mfrequency\u001b[39m\u001b[90m\u001b[1m)\u001b[22m\u001b[39m\u001b[90m by time\u001b[39m       207 μs \u001b[0m\u001b[1m<\u001b[22m\n",
       "\n",
       " Memory estimate\u001b[90m: \u001b[39m\u001b[33m976 bytes\u001b[39m, allocs estimate\u001b[90m: \u001b[39m\u001b[33m28\u001b[39m."
      ]
     },
     "metadata": {},
     "output_type": "display_data"
    }
   ],
   "source": [
    "using BenchmarkTools\n",
    "using CUDA\n",
    "n = 200;\n",
    "a = CUDA.rand(n,n)\n",
    "b = CUDA.rand(n,n)\n",
    "c = CUDA.rand(n,n)\n",
    "@benchmark CUDA.@sync muladd(a,b,c) "
   ]
  },
  {
   "cell_type": "code",
   "execution_count": 18,
   "metadata": {},
   "outputs": [
    {
     "data": {
      "text/plain": [
       "BenchmarkTools.Trial: 10000 samples with 1 evaluation.\n",
       " Range \u001b[90m(\u001b[39m\u001b[36m\u001b[1mmin\u001b[22m\u001b[39m … \u001b[35mmax\u001b[39m\u001b[90m):  \u001b[39m\u001b[36m\u001b[1m168.300 μs\u001b[22m\u001b[39m … \u001b[35m  3.916 ms\u001b[39m  \u001b[90m┊\u001b[39m GC \u001b[90m(\u001b[39mmin … max\u001b[90m): \u001b[39m0.00% … 91.49%\n",
       " Time  \u001b[90m(\u001b[39m\u001b[34m\u001b[1mmedian\u001b[22m\u001b[39m\u001b[90m):     \u001b[39m\u001b[34m\u001b[1m197.550 μs               \u001b[22m\u001b[39m\u001b[90m┊\u001b[39m GC \u001b[90m(\u001b[39mmedian\u001b[90m):    \u001b[39m0.00%\n",
       " Time  \u001b[90m(\u001b[39m\u001b[32m\u001b[1mmean\u001b[22m\u001b[39m ± \u001b[32mσ\u001b[39m\u001b[90m):   \u001b[39m\u001b[32m\u001b[1m227.422 μs\u001b[22m\u001b[39m ± \u001b[32m119.004 μs\u001b[39m  \u001b[90m┊\u001b[39m GC \u001b[90m(\u001b[39mmean ± σ\u001b[90m):  \u001b[39m2.89% ±  6.13%\n",
       "\n",
       "  \u001b[39m▅\u001b[39m█\u001b[39m█\u001b[39m▅\u001b[39m▃\u001b[34m▄\u001b[39m\u001b[39m▅\u001b[39m▅\u001b[39m▅\u001b[39m▅\u001b[32m▄\u001b[39m\u001b[39m▄\u001b[39m▄\u001b[39m▂\u001b[39m▂\u001b[39m▂\u001b[39m▂\u001b[39m▂\u001b[39m▁\u001b[39m▂\u001b[39m▂\u001b[39m▂\u001b[39m▁\u001b[39m▁\u001b[39m▁\u001b[39m▁\u001b[39m▁\u001b[39m▁\u001b[39m \u001b[39m▁\u001b[39m \u001b[39m \u001b[39m \u001b[39m \u001b[39m \u001b[39m \u001b[39m \u001b[39m \u001b[39m \u001b[39m \u001b[39m \u001b[39m \u001b[39m \u001b[39m \u001b[39m \u001b[39m \u001b[39m \u001b[39m \u001b[39m \u001b[39m \u001b[39m \u001b[39m \u001b[39m \u001b[39m \u001b[39m \u001b[39m \u001b[39m \u001b[39m \u001b[39m \u001b[39m \u001b[39m \u001b[39m \u001b[39m▂\n",
       "  \u001b[39m█\u001b[39m█\u001b[39m█\u001b[39m█\u001b[39m█\u001b[34m█\u001b[39m\u001b[39m█\u001b[39m█\u001b[39m█\u001b[39m█\u001b[32m█\u001b[39m\u001b[39m█\u001b[39m█\u001b[39m█\u001b[39m█\u001b[39m█\u001b[39m█\u001b[39m█\u001b[39m█\u001b[39m█\u001b[39m█\u001b[39m█\u001b[39m█\u001b[39m█\u001b[39m█\u001b[39m█\u001b[39m█\u001b[39m█\u001b[39m█\u001b[39m█\u001b[39m█\u001b[39m█\u001b[39m█\u001b[39m█\u001b[39m█\u001b[39m█\u001b[39m█\u001b[39m▇\u001b[39m▇\u001b[39m▇\u001b[39m▇\u001b[39m▇\u001b[39m▇\u001b[39m▇\u001b[39m▆\u001b[39m▇\u001b[39m▆\u001b[39m▆\u001b[39m▆\u001b[39m▄\u001b[39m▅\u001b[39m▄\u001b[39m▆\u001b[39m▄\u001b[39m▅\u001b[39m▃\u001b[39m▄\u001b[39m▄\u001b[39m▃\u001b[39m▅\u001b[39m▅\u001b[39m \u001b[39m█\n",
       "  168 μs\u001b[90m        \u001b[39m\u001b[90mHistogram: \u001b[39m\u001b[90m\u001b[1mlog(\u001b[22m\u001b[39m\u001b[90mfrequency\u001b[39m\u001b[90m\u001b[1m)\u001b[22m\u001b[39m\u001b[90m by time\u001b[39m        528 μs \u001b[0m\u001b[1m<\u001b[22m\n",
       "\n",
       " Memory estimate\u001b[90m: \u001b[39m\u001b[33m312.55 KiB\u001b[39m, allocs estimate\u001b[90m: \u001b[39m\u001b[33m2\u001b[39m."
      ]
     },
     "metadata": {},
     "output_type": "display_data"
    }
   ],
   "source": [
    "n = 200;\n",
    "a = rand(n,n)\n",
    "b = rand(n,n)\n",
    "c = rand(n,n)\n",
    "@benchmark muladd($a,$b,$c)"
   ]
  },
  {
   "cell_type": "code",
   "execution_count": null,
   "metadata": {},
   "outputs": [],
   "source": [
    "N_t = 1000\n",
    "r = convert(Float32, 5.4)\n",
    "s = CUDA.rand(N_t,N_t);\n",
    "t = CUDA.CUSPARSE.CuSparseMatrixCSC(sprand(Float32,N_t,N_t,1/N_t))\n",
    "CUDA.@time t*s; # s*t non\n",
    "CUDA.@time s*s;"
   ]
  },
  {
   "cell_type": "markdown",
   "metadata": {},
   "source": [
    "## Tests librairies graphes"
   ]
  },
  {
   "cell_type": "code",
   "execution_count": null,
   "metadata": {},
   "outputs": [],
   "source": [
    "using DataStructures"
   ]
  },
  {
   "cell_type": "code",
   "execution_count": 6,
   "metadata": {},
   "outputs": [
    {
     "name": "stderr",
     "output_type": "stream",
     "text": [
      "\n",
      "(process:15464): GLib-GIO-WARNING **: 16:31:10.395: Unexpectedly, UWP app `draw.io.draw.ioDiagrams_19.0.3.0_x64__1zh33159kp73c' (AUMId `draw.io.draw.ioDiagrams_1zh33159kp73c!draw.io.draw.ioDiagrams') supports 2 extensions but has no verbs\n"
     ]
    }
   ],
   "source": [
    "using Graphs\n",
    "using GraphPlot\n",
    "using Compose\n",
    "using Cairo, Fontconfig\n",
    "\n",
    "# g = random_orientation_dag(wheel_graph(10))\n",
    "g = SimpleDiGraph(4,0, seed=5);\n",
    "add_vertices!(g, 1) # adds n vertices to g\n",
    "add_edge!(g, 1, 2) # adds the edge (s, d) to g\n",
    "g = binary_tree(3)\n",
    "\n",
    "nodelabel = 1:Graphs.nv(g)\n",
    "edgelabel = 1:Graphs.ne(g)\n",
    "draw(PNG(\"./wheel10.png\", 16cm, 16cm), gplot(g, nodelabel=nodelabel, edgelabel=edgelabel, nodelabelsize=10, layout=spectral_layout));"
   ]
  },
  {
   "cell_type": "code",
   "execution_count": null,
   "metadata": {},
   "outputs": [],
   "source": [
    "# https://juliagraphs.org/Graphs.jl/dev/first_steps/plotting/\n",
    "using TikzGraphs\n",
    "using TikzPictures\n",
    "g = wheel_graph(10); t = plot(g)\n",
    "\n",
    "save(SVG(\"wheel10.SVG\"), t)"
   ]
  },
  {
   "cell_type": "code",
   "execution_count": 16,
   "metadata": {},
   "outputs": [
    {
     "data": {
      "text/plain": [
       "3×3 SparseArrays.SparseMatrixCSC{Float64, Int64} with 2 stored entries:\n",
       "  ⋅   0.5   ⋅ \n",
       " 0.5   ⋅    ⋅ \n",
       "  ⋅    ⋅    ⋅ "
      ]
     },
     "metadata": {},
     "output_type": "display_data"
    }
   ],
   "source": [
    "using SimpleWeightedGraphs\n",
    "h = SimpleWeightedGraph(3)\n",
    "add_edge!(h,1,2,.5);\n",
    "h.weights"
   ]
  },
  {
   "cell_type": "code",
   "execution_count": 24,
   "metadata": {},
   "outputs": [],
   "source": [
    "nodelabel = 1:Graphs.nv(h)\n",
    "edgelabel = [.5] # collect(reshape(h.weights, Graphs.nv(h)^2));\n",
    "draw(PNG(\"./wheel10.png\", 16cm, 16cm), gplot(h, nodelabel=nodelabel, edgelabel=edgelabel, nodelabelsize=10, layout=spectral_layout));"
   ]
  },
  {
   "cell_type": "code",
   "execution_count": 22,
   "metadata": {},
   "outputs": [
    {
     "data": {
      "text/plain": [
       "9-element Vector{Float64}:\n",
       " 0.0\n",
       " 0.5\n",
       " 0.0\n",
       " 0.5\n",
       " 0.0\n",
       " 0.0\n",
       " 0.0\n",
       " 0.0\n",
       " 0.0"
      ]
     },
     "metadata": {},
     "output_type": "display_data"
    }
   ],
   "source": [
    "collect(reshape(h.weights, Graphs.nv(h)^2))"
   ]
  },
  {
   "cell_type": "code",
   "execution_count": null,
   "metadata": {},
   "outputs": [],
   "source": [
    "SimpleDiGraph{MonNoeud}(Vector([true, false, true, false, false]), 0)"
   ]
  },
  {
   "cell_type": "code",
   "execution_count": null,
   "metadata": {},
   "outputs": [],
   "source": []
  }
 ],
 "metadata": {
  "kernelspec": {
   "display_name": "Julia 1.7.2",
   "language": "julia",
   "name": "julia-1.7"
  },
  "language_info": {
   "file_extension": ".jl",
   "mimetype": "application/julia",
   "name": "julia",
   "version": "1.7.2"
  },
  "orig_nbformat": 4
 },
 "nbformat": 4,
 "nbformat_minor": 2
}
