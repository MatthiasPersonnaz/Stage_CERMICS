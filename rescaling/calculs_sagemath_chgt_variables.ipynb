{
 "cells": [
  {
   "cell_type": "code",
   "execution_count": 2,
   "metadata": {},
   "outputs": [
    {
     "data": {
      "text/plain": [
       "2*N^3 + 3*N*q - 5*N + 2*q - 3"
      ]
     },
     "execution_count": 2,
     "metadata": {},
     "output_type": "execute_result"
    }
   ],
   "source": [
    "N,q = var('N,q')\n",
    "(1+(q-1)*N+N^3+(q-1)*(1+N)+N^3+(q-3)*(1+N)).expand()"
   ]
  },
  {
   "cell_type": "code",
   "execution_count": 8,
   "metadata": {},
   "outputs": [
    {
     "data": {
      "text/html": [
       "<html><script type=\"math/tex; mode=display\">\\newcommand{\\Bold}[1]{\\mathbf{#1}}-2 \\, N^{3} + \\frac{1}{2} \\, {\\left(3 \\, N + 2\\right)} Q_{\\mathit{max}}^{2} + \\frac{1}{2} \\, {\\left(4 \\, N^{3} - 7 \\, N - 4\\right)} Q_{\\mathit{max}} + 2 \\, N + 1</script></html>"
      ],
      "text/plain": [
       "-2 \\, N^{3} + \\frac{1}{2} \\, {\\left(3 \\, N + 2\\right)} Q_{\\mathit{max}}^{2} + \\frac{1}{2} \\, {\\left(4 \\, N^{3} - 7 \\, N - 4\\right)} Q_{\\mathit{max}} + 2 \\, N + 1"
      ]
     },
     "execution_count": 8,
     "metadata": {},
     "output_type": "execute_result"
    }
   ],
   "source": [
    "%display typeset\n",
    "Q_max = var('Q_max')\n",
    "latex(sum(2*N^3 + 3*N*q - 5*N + 2*q - 3, q, 2, Q_max))"
   ]
  },
  {
   "cell_type": "code",
   "execution_count": 2,
   "metadata": {},
   "outputs": [
    {
     "data": {
      "text/html": [
       "<html><script type=\"math/tex; mode=display\">\\newcommand{\\Bold}[1]{\\mathbf{#1}}\\left(X_{1}, X_{2}, x, M_{1}, M_{2}, m\\right)</script></html>"
      ],
      "text/plain": [
       "(X_1, X_2, x, M_1, M_2, m)"
      ]
     },
     "execution_count": 2,
     "metadata": {},
     "output_type": "execute_result"
    }
   ],
   "source": [
    "%display typeset\n",
    "var('X_1, X_2, x, M_1, M_2, m') # X_G, r, R, "
   ]
  },
  {
   "cell_type": "code",
   "execution_count": 3,
   "metadata": {},
   "outputs": [
    {
     "data": {
      "text/html": [
       "<html><script type=\"math/tex; mode=display\">\\newcommand{\\Bold}[1]{\\mathbf{#1}}\\left( X_{1}, X_{2}, x \\right) \\ {\\mapsto} \\ \\frac{1}{2} \\, M_{1} X_{1}^{2} + \\frac{1}{2} \\, M_{2} X_{2}^{2} + \\frac{1}{2} \\, m x^{2}</script></html>"
      ],
      "text/plain": [
       "(X_1, X_2, x) |--> 1/2*M_1*X_1^2 + 1/2*M_2*X_2^2 + 1/2*m*x^2"
      ]
     },
     "execution_count": 3,
     "metadata": {},
     "output_type": "execute_result"
    }
   ],
   "source": [
    "H(X_1, X_2, x) = 1/2*M_1*X_1^2 + 1/2*M_2*X_2^2 + 1/2*m*x^2\n",
    "H"
   ]
  },
  {
   "cell_type": "code",
   "execution_count": 4,
   "metadata": {},
   "outputs": [
    {
     "data": {
      "text/html": [
       "<html><script type=\"math/tex; mode=display\">\\newcommand{\\Bold}[1]{\\mathbf{#1}}\\left(\\begin{array}{rrr}\n",
       "\\frac{M_{1}}{M_{1} + M_{2} + m} & \\frac{M_{2}}{M_{1} + M_{2} + m} & \\frac{m}{M_{1} + M_{2} + m} \\\\\n",
       "-\\frac{M_{1}}{M_{1} + M_{2}} & -\\frac{M_{2}}{M_{1} + M_{2}} & 1 \\\\\n",
       "-1 & 1 & 0\n",
       "\\end{array}\\right)</script></html>"
      ],
      "text/plain": [
       "[M_1/(M_1 + M_2 + m) M_2/(M_1 + M_2 + m)   m/(M_1 + M_2 + m)]\n",
       "[   -M_1/(M_1 + M_2)    -M_2/(M_1 + M_2)                   1]\n",
       "[                 -1                   1                   0]"
      ]
     },
     "execution_count": 4,
     "metadata": {},
     "output_type": "execute_result"
    }
   ],
   "source": [
    "M = matrix(SR, 3, 3, [M_1/(M_1+M_2+m), M_2/(M_1+M_2+m), m/(M_1+M_2+m), -M_1/(M_1+M_2), -M_2/(M_1+M_2), 1, -1, 1, 0])\n",
    "M"
   ]
  },
  {
   "cell_type": "code",
   "execution_count": 5,
   "metadata": {},
   "outputs": [
    {
     "data": {
      "text/html": [
       "<html><script type=\"math/tex; mode=display\">\\newcommand{\\Bold}[1]{\\mathbf{#1}}-\\frac{M_{1}}{M_{1} + M_{2} + m} - \\frac{M_{2}}{M_{1} + M_{2} + m} - \\frac{M_{1} m}{{\\left(M_{1} + M_{2} + m\\right)} {\\left(M_{1} + M_{2}\\right)}} - \\frac{M_{2} m}{{\\left(M_{1} + M_{2} + m\\right)} {\\left(M_{1} + M_{2}\\right)}}</script></html>"
      ],
      "text/plain": [
       "-M_1/(M_1 + M_2 + m) - M_2/(M_1 + M_2 + m) - M_1*m/((M_1 + M_2 + m)*(M_1 + M_2)) - M_2*m/((M_1 + M_2 + m)*(M_1 + M_2))"
      ]
     },
     "execution_count": 5,
     "metadata": {},
     "output_type": "execute_result"
    }
   ],
   "source": [
    "M.determinant().simplify()"
   ]
  },
  {
   "cell_type": "code",
   "execution_count": 6,
   "metadata": {},
   "outputs": [
    {
     "data": {
      "text/html": [
       "<html><script type=\"math/tex; mode=display\">\\newcommand{\\Bold}[1]{\\mathbf{#1}}\\left(\\begin{array}{rrr}\n",
       "1 & -\\frac{m}{M_{1} + M_{2} + m} & -\\frac{M_{2}}{M_{1} + M_{2}} \\\\\n",
       "1 & -\\frac{m}{M_{1} + M_{2} + m} & \\frac{M_{1}}{M_{1} + M_{2}} \\\\\n",
       "1 & \\frac{M_{1} + M_{2}}{M_{1} + M_{2} + m} & 0\n",
       "\\end{array}\\right)</script></html>"
      ],
      "text/plain": [
       "[                          1          -m/(M_1 + M_2 + m)            -M_2/(M_1 + M_2)]\n",
       "[                          1          -m/(M_1 + M_2 + m)             M_1/(M_1 + M_2)]\n",
       "[                          1 (M_1 + M_2)/(M_1 + M_2 + m)                           0]"
      ]
     },
     "execution_count": 6,
     "metadata": {},
     "output_type": "execute_result"
    }
   ],
   "source": [
    "invM = ~M\n",
    "invM.factor() # on peut vérifier par (invM*M).factor()"
   ]
  },
  {
   "cell_type": "code",
   "execution_count": 9,
   "metadata": {},
   "outputs": [
    {
     "data": {
      "text/html": [
       "<html><script type=\"math/tex; mode=display\">\\newcommand{\\Bold}[1]{\\mathbf{#1}}\\left(\\begin{array}{rrr}\n",
       "1 & 0 & 0 \\\\\n",
       "0 & 1 & 0 \\\\\n",
       "0 & 0 & 1\n",
       "\\end{array}\\right)</script></html>"
      ],
      "text/plain": [
       "[1 0 0]\n",
       "[0 1 0]\n",
       "[0 0 1]"
      ]
     },
     "execution_count": 9,
     "metadata": {},
     "output_type": "execute_result"
    }
   ],
   "source": [
    "(invM*M).factor()"
   ]
  },
  {
   "cell_type": "code",
   "execution_count": 143,
   "metadata": {},
   "outputs": [
    {
     "data": {
      "text/html": [
       "<html><script type=\"math/tex; mode=display\">\\newcommand{\\Bold}[1]{\\mathbf{#1}}\\left(\\begin{array}{r}\n",
       "X_{G} \\\\\n",
       "r \\\\\n",
       "R\n",
       "\\end{array}\\right)</script></html>"
      ],
      "text/plain": [
       "[X_G]\n",
       "[  r]\n",
       "[  R]"
      ]
     },
     "execution_count": 143,
     "metadata": {},
     "output_type": "execute_result"
    }
   ],
   "source": [
    "nv_coord = matrix(SR, 3,1, var('X_G, r, R')) # on remplace X_G par 0 car systèùe isolé\n",
    "nv_coord"
   ]
  },
  {
   "cell_type": "code",
   "execution_count": 144,
   "metadata": {},
   "outputs": [],
   "source": [
    "an_coord = invM*nv_coord"
   ]
  },
  {
   "cell_type": "code",
   "execution_count": 145,
   "metadata": {},
   "outputs": [
    {
     "data": {
      "text/html": [
       "<html><script type=\"math/tex; mode=display\">\\newcommand{\\Bold}[1]{\\mathbf{#1}}\\left(\\begin{array}{r}\n",
       "-\\frac{M_{1} M_{2} R + M_{2}^{2} R - M_{1}^{2} X_{G} - 2 \\, M_{1} M_{2} X_{G} - M_{2}^{2} X_{G} + M_{2} R m - M_{1} X_{G} m - M_{2} X_{G} m + M_{1} m r + M_{2} m r}{{\\left(M_{1} + M_{2} + m\\right)} {\\left(M_{1} + M_{2}\\right)}} \\\\\n",
       "\\frac{M_{1}^{2} R + M_{1} M_{2} R + M_{1}^{2} X_{G} + 2 \\, M_{1} M_{2} X_{G} + M_{2}^{2} X_{G} + M_{1} R m + M_{1} X_{G} m + M_{2} X_{G} m - M_{1} m r - M_{2} m r}{{\\left(M_{1} + M_{2} + m\\right)} {\\left(M_{1} + M_{2}\\right)}} \\\\\n",
       "\\frac{M_{1} X_{G} + M_{2} X_{G} + X_{G} m + M_{1} r + M_{2} r}{M_{1} + M_{2} + m}\n",
       "\\end{array}\\right)</script></html>"
      ],
      "text/plain": [
       "[-(M_1*M_2*R + M_2^2*R - M_1^2*X_G - 2*M_1*M_2*X_G - M_2^2*X_G + M_2*R*m - M_1*X_G*m - M_2*X_G*m + M_1*m*r + M_2*m*r)/((M_1 + M_2 + m)*(M_1 + M_2))]\n",
       "[ (M_1^2*R + M_1*M_2*R + M_1^2*X_G + 2*M_1*M_2*X_G + M_2^2*X_G + M_1*R*m + M_1*X_G*m + M_2*X_G*m - M_1*m*r - M_2*m*r)/((M_1 + M_2 + m)*(M_1 + M_2))]\n",
       "[                                                                                       (M_1*X_G + M_2*X_G + X_G*m + M_1*r + M_2*r)/(M_1 + M_2 + m)]"
      ]
     },
     "execution_count": 145,
     "metadata": {},
     "output_type": "execute_result"
    }
   ],
   "source": [
    "%display typeset\n",
    "an_coord.factor()"
   ]
  },
  {
   "cell_type": "code",
   "execution_count": 179,
   "metadata": {},
   "outputs": [
    {
     "data": {
      "text/html": [
       "<html><script type=\"math/tex; mode=display\">\\newcommand{\\Bold}[1]{\\mathbf{#1}}-\\frac{M_{1} M_{2} R + M_{2}^{2} R - M_{1}^{2} X_{G} - 2 \\, M_{1} M_{2} X_{G} - M_{2}^{2} X_{G} + M_{2} R m - M_{1} X_{G} m - M_{2} X_{G} m + M_{1} m r + M_{2} m r}{{\\left(M_{1} + M_{2} + m\\right)} {\\left(M_{1} + M_{2}\\right)}}</script></html>"
      ],
      "text/plain": [
       "-(M_1*M_2*R + M_2^2*R - M_1^2*X_G - 2*M_1*M_2*X_G - M_2^2*X_G + M_2*R*m - M_1*X_G*m - M_2*X_G*m + M_1*m*r + M_2*m*r)/((M_1 + M_2 + m)*(M_1 + M_2))"
      ]
     },
     "execution_count": 179,
     "metadata": {},
     "output_type": "execute_result"
    }
   ],
   "source": [
    "X_1 = an_coord[0,0]; X_1.factor()   # .expand().simplify()"
   ]
  },
  {
   "cell_type": "code",
   "execution_count": 180,
   "metadata": {},
   "outputs": [
    {
     "data": {
      "text/html": [
       "<html><script type=\"math/tex; mode=display\">\\newcommand{\\Bold}[1]{\\mathbf{#1}}\\frac{M_{1}^{2} R + M_{1} M_{2} R + M_{1}^{2} X_{G} + 2 \\, M_{1} M_{2} X_{G} + M_{2}^{2} X_{G} + M_{1} R m + M_{1} X_{G} m + M_{2} X_{G} m - M_{1} m r - M_{2} m r}{{\\left(M_{1} + M_{2} + m\\right)} {\\left(M_{1} + M_{2}\\right)}}</script></html>"
      ],
      "text/plain": [
       "(M_1^2*R + M_1*M_2*R + M_1^2*X_G + 2*M_1*M_2*X_G + M_2^2*X_G + M_1*R*m + M_1*X_G*m + M_2*X_G*m - M_1*m*r - M_2*m*r)/((M_1 + M_2 + m)*(M_1 + M_2))"
      ]
     },
     "execution_count": 180,
     "metadata": {},
     "output_type": "execute_result"
    }
   ],
   "source": [
    "X_2 = an_coord[1,0]; X_2.factor()"
   ]
  },
  {
   "cell_type": "code",
   "execution_count": 181,
   "metadata": {},
   "outputs": [
    {
     "data": {
      "text/html": [
       "<html><script type=\"math/tex; mode=display\">\\newcommand{\\Bold}[1]{\\mathbf{#1}}\\frac{M_{1} X_{G} + M_{2} X_{G} + X_{G} m + M_{1} r + M_{2} r}{M_{1} + M_{2} + m}</script></html>"
      ],
      "text/plain": [
       "(M_1*X_G + M_2*X_G + X_G*m + M_1*r + M_2*r)/(M_1 + M_2 + m)"
      ]
     },
     "execution_count": 181,
     "metadata": {},
     "output_type": "execute_result"
    }
   ],
   "source": [
    "x = an_coord[2,0]; x.factor()"
   ]
  },
  {
   "cell_type": "code",
   "execution_count": 182,
   "metadata": {},
   "outputs": [
    {
     "data": {
      "text/html": [
       "<html><script type=\"math/tex; mode=display\">\\newcommand{\\Bold}[1]{\\mathbf{#1}}\\left( X_{G}, r, R \\right) \\ {\\mapsto} \\ \\frac{M_{1}^{2} M_{2} R^{2} + M_{1} M_{2}^{2} R^{2} + M_{1}^{3} X_{G}^{2} + 3 \\, M_{1}^{2} M_{2} X_{G}^{2} + 3 \\, M_{1} M_{2}^{2} X_{G}^{2} + M_{2}^{3} X_{G}^{2} + M_{1} M_{2} R^{2} m + 2 \\, M_{1}^{2} X_{G}^{2} m + 4 \\, M_{1} M_{2} X_{G}^{2} m + 2 \\, M_{2}^{2} X_{G}^{2} m + M_{1} X_{G}^{2} m^{2} + M_{2} X_{G}^{2} m^{2} + M_{1}^{2} m r^{2} + 2 \\, M_{1} M_{2} m r^{2} + M_{2}^{2} m r^{2}}{2 \\, {\\left(M_{1} + M_{2} + m\\right)} {\\left(M_{1} + M_{2}\\right)}}</script></html>"
      ],
      "text/plain": [
       "(X_G, r, R) |--> 1/2*(M_1^2*M_2*R^2 + M_1*M_2^2*R^2 + M_1^3*X_G^2 + 3*M_1^2*M_2*X_G^2 + 3*M_1*M_2^2*X_G^2 + M_2^3*X_G^2 + M_1*M_2*R^2*m + 2*M_1^2*X_G^2*m + 4*M_1*M_2*X_G^2*m + 2*M_2^2*X_G^2*m + M_1*X_G^2*m^2 + M_2*X_G^2*m^2 + M_1^2*m*r^2 + 2*M_1*M_2*m*r^2 + M_2^2*m*r^2)/((M_1 + M_2 + m)*(M_1 + M_2))"
      ]
     },
     "execution_count": 182,
     "metadata": {},
     "output_type": "execute_result"
    }
   ],
   "source": [
    "h(X_G, r, R) = H(X_1, X_2, x).factor(); h"
   ]
  },
  {
   "cell_type": "code",
   "execution_count": 183,
   "metadata": {},
   "outputs": [
    {
     "data": {
      "text/html": [
       "<html><script type=\"math/tex; mode=display\">\\newcommand{\\Bold}[1]{\\mathbf{#1}}\\frac{M_{1}^{2} M_{2} R^{2} + M_{1} M_{2}^{2} R^{2} + M_{1} M_{2} R^{2} m + M_{1}^{2} m r^{2} + 2 \\, M_{1} M_{2} m r^{2} + M_{2}^{2} m r^{2}}{2 \\, {\\left(M_{1} + M_{2} + m\\right)} {\\left(M_{1} + M_{2}\\right)}}</script></html>"
      ],
      "text/plain": [
       "1/2*(M_1^2*M_2*R^2 + M_1*M_2^2*R^2 + M_1*M_2*R^2*m + M_1^2*m*r^2 + 2*M_1*M_2*m*r^2 + M_2^2*m*r^2)/((M_1 + M_2 + m)*(M_1 + M_2))"
      ]
     },
     "execution_count": 183,
     "metadata": {},
     "output_type": "execute_result"
    }
   ],
   "source": [
    "h(0, r, R)"
   ]
  },
  {
   "cell_type": "code",
   "execution_count": 159,
   "metadata": {},
   "outputs": [
    {
     "data": {
      "text/html": [
       "<html><script type=\"math/tex; mode=display\">\\newcommand{\\Bold}[1]{\\mathbf{#1}}{\\left(M_{1}^{2} M_{2} + M_{1} M_{2}^{2} + M_{1} M_{2} m\\right)} R^{2} + {\\left(M_{1}^{2} m + 2 \\, M_{1} M_{2} m + M_{2}^{2} m\\right)} r^{2}</script></html>"
      ],
      "text/plain": [
       "(M_1^2*M_2 + M_1*M_2^2 + M_1*M_2*m)*R^2 + (M_1^2*m + 2*M_1*M_2*m + M_2^2*m)*r^2"
      ]
     },
     "execution_count": 159,
     "metadata": {},
     "output_type": "execute_result"
    }
   ],
   "source": [
    "h(0, r, R).numerator().collect(R).collect(r)"
   ]
  },
  {
   "cell_type": "code",
   "execution_count": 175,
   "metadata": {},
   "outputs": [
    {
     "data": {
      "text/html": [
       "<html><script type=\"math/tex; mode=display\">\\newcommand{\\Bold}[1]{\\mathbf{#1}}2 \\, {\\left(M_{1} + M_{2} + m\\right)} {\\left(M_{1} + M_{2}\\right)}</script></html>"
      ],
      "text/plain": [
       "2*(M_1 + M_2 + m)*(M_1 + M_2)"
      ]
     },
     "execution_count": 175,
     "metadata": {},
     "output_type": "execute_result"
    }
   ],
   "source": [
    "h(0, r, R).denominator()"
   ]
  },
  {
   "cell_type": "code",
   "execution_count": 169,
   "metadata": {},
   "outputs": [
    {
     "data": {
      "text/html": [
       "<html><script type=\"math/tex; mode=display\">\\newcommand{\\Bold}[1]{\\mathbf{#1}}\\left(\\frac{M_{2} R + M_{1} r + M_{2} r}{M_{1} + M_{2}}, -\\frac{M_{1} R - M_{1} r - M_{2} r}{M_{1} + M_{2}}\\right)</script></html>"
      ],
      "text/plain": [
       "((M_2*R + M_1*r + M_2*r)/(M_1 + M_2), -(M_1*R - M_1*r - M_2*r)/(M_1 + M_2))"
      ]
     },
     "execution_count": 169,
     "metadata": {},
     "output_type": "execute_result"
    }
   ],
   "source": [
    "(x-X_1).factor(), (x-X_2).factor()"
   ]
  },
  {
   "cell_type": "code",
   "execution_count": 173,
   "metadata": {},
   "outputs": [
    {
     "data": {
      "text/html": [
       "<html><script type=\"math/tex; mode=display\">\\newcommand{\\Bold}[1]{\\mathbf{#1}}\\frac{r {\\left(\\frac{m}{M_{1}} - \\frac{M_{2} m}{M_{1}^{2} {\\left(\\frac{M_{2}}{M_{1}} + 1\\right)}}\\right)}}{\\frac{m}{M_{1} + M_{2}} + 1} + \\frac{M_{2} R}{M_{1} {\\left(\\frac{M_{2}}{M_{1}} + 1\\right)}} + \\frac{R}{\\frac{M_{2}}{M_{1}} + 1} - \\frac{m r}{M_{1} {\\left(\\frac{M_{2}}{M_{1}} + 1\\right)} {\\left(\\frac{m}{M_{1} + M_{2}} + 1\\right)}}</script></html>"
      ],
      "text/plain": [
       "r*(m/M_1 - M_2*m/(M_1^2*(M_2/M_1 + 1)))/(m/(M_1 + M_2) + 1) + M_2*R/(M_1*(M_2/M_1 + 1)) + R/(M_2/M_1 + 1) - m*r/(M_1*(M_2/M_1 + 1)*(m/(M_1 + M_2) + 1))"
      ]
     },
     "execution_count": 173,
     "metadata": {},
     "output_type": "execute_result"
    }
   ],
   "source": [
    "(X_2-X_1).subs(X_G=0).simplify()"
   ]
  }
 ],
 "metadata": {
  "kernelspec": {
   "display_name": "SageMath 9.1",
   "language": "sage",
   "name": "sagemath"
  },
  "language_info": {
   "codemirror_mode": {
    "name": "ipython",
    "version": 3
   },
   "file_extension": ".py",
   "mimetype": "text/x-python",
   "name": "python",
   "nbconvert_exporter": "python",
   "pygments_lexer": "ipython3",
   "version": "3.7.3"
  }
 },
 "nbformat": 4,
 "nbformat_minor": 2
}
